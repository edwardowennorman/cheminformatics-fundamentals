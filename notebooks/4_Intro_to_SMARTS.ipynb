{
 "cells": [
  {
   "cell_type": "markdown",
   "id": "23217e4d",
   "metadata": {},
   "source": [
    "### An introduction to the SMILES ARbitrary Target Specification (SMARTS)"
   ]
  },
  {
   "cell_type": "markdown",
   "id": "923e06dc",
   "metadata": {},
   "source": [
    "Install the necessary Python packages"
   ]
  },
  {
   "cell_type": "code",
   "execution_count": 2,
   "id": "664ac16c",
   "metadata": {
    "ExecuteTime": {
     "end_time": "2025-05-05T16:56:40.419395Z",
     "start_time": "2025-05-05T16:56:40.417045Z"
    }
   },
   "outputs": [],
   "source": [
    "%%capture\n",
    "import sys\n",
    "IN_COLAB = 'google.colab' in sys.modules\n",
    "if IN_COLAB:\n",
    "    !pip install rdkit mols2grid"
   ]
  },
  {
   "cell_type": "markdown",
   "id": "8a60c5aa",
   "metadata": {},
   "source": [
    "Load the necessary Python packages"
   ]
  },
  {
   "cell_type": "code",
   "execution_count": 3,
   "id": "4988154b",
   "metadata": {
    "ExecuteTime": {
     "end_time": "2025-05-05T16:56:40.718429Z",
     "start_time": "2025-05-05T16:56:40.576636Z"
    }
   },
   "outputs": [],
   "source": [
    "from rdkit.Chem.Draw import IPythonConsole\n",
    "from rdkit.Chem import rdDepictor\n",
    "from rdkit import Chem\n",
    "\n",
    "IPythonConsole.ipython_useSVG = True\n",
    "IPythonConsole.molSize = 300, 300\n",
    "rdDepictor.SetPreferCoordGen(True)"
   ]
  },
  {
   "cell_type": "markdown",
   "id": "8a52221c",
   "metadata": {},
   "source": [
    "### Introduction\n",
    "\n",
    "The **SM**ILES **AR**bitrary **T**arget **S**pecification (SMARTS) is a language for pattern matching in molecules.  SMARTS provides concise means of matching specific substructures in molecules.  Like SMILES, SMARTS was developed and refined by [Dave Weininger](https://en.wikipedia.org/wiki/David_Weininger) and colleagues at Daylight Chemical Information Systems.  \n",
    "\n",
    "The canonical reference for SMARTS is the [Daylight Theory Manual](https://www.daylight.com/dayhtml/doc/theory/), I've borrowed liberally from that here. The [Daylight SMARTS Tutorial](https://www.daylight.com/dayhtml_tutorials/languages/smarts/index.html) is another essential reference. "
   ]
  },
  {
   "cell_type": "markdown",
   "id": "fcce1e74",
   "metadata": {},
   "source": [
    "SMARTS share a lot of the same syntax as SMILES but there are a number of critical differences.  At a simple level, any SMILES is also a valid SMARTS.  However, a query with that SMARTS may not give you the answer you want.  This can best be explained via an example.  "
   ]
  },
  {
   "cell_type": "markdown",
   "id": "6145f214",
   "metadata": {},
   "source": [
    "In the RDKit, we can parse a SMARTS and create a molecule with pattern matching abilities using the function **Chem.MolFromSmarts**.  If we look at the depicted structure below, we can see that there are aromatic bonds between the ring atoms.  These bond types are implicit since no bonds were specified.  The bond to the methyl carbon is also not specified, so it is of type **single or aromatic**."
   ]
  },
  {
   "cell_type": "code",
   "execution_count": 4,
   "id": "af610d42",
   "metadata": {
    "ExecuteTime": {
     "end_time": "2025-05-05T16:56:40.733769Z",
     "start_time": "2025-05-05T16:56:40.721015Z"
    }
   },
   "outputs": [
    {
     "data": {
      "image/png": "[encoded data removed]",
      "image/svg+xml": [
       "<?xml version='1.0' encoding='iso-8859-1'?>\n",
       "<svg version='1.1' baseProfile='full'\n",
       "              xmlns='http://www.w3.org/2000/svg'\n",
       "                      xmlns:rdkit='http://www.rdkit.org/xml'\n",
       "                      xmlns:xlink='http://www.w3.org/1999/xlink'\n",
       "                  xml:space='preserve'\n",
       "width='300px' height='300px' viewBox='0 0 300 300'>\n",
       "<!-- END OF HEADER -->\n",
       "<rect style='opacity:1.0;fill:#FFFFFF;stroke:none' width='300.0' height='300.0' x='0.0' y='0.0'> </rect>\n",
       "<path class='bond-0 atom-0 atom-1' d='M 108.2,95.6 L 152.5,70.4' style='fill:none;fill-rule:evenodd;stroke:#7F7F7F;stroke-width:2.0px;stroke-linecap:butt;stroke-linejoin:miter;stroke-opacity:1' />\n",
       "<path class='bond-0 atom-0 atom-1' d='M 152.5,70.4 L 196.9,45.2' style='fill:none;fill-rule:evenodd;stroke:#7F7F7F;stroke-width:2.0px;stroke-linecap:butt;stroke-linejoin:miter;stroke-opacity:1' />\n",
       "<path class='bond-0 atom-0 atom-1' d='M 160.1,83.7 L 196.8,62.8' style='fill:none;fill-rule:evenodd;stroke:#7F7F7F;stroke-width:2.0px;stroke-linecap:butt;stroke-linejoin:miter;stroke-opacity:1;stroke-dasharray:2,2' />\n",
       "<path class='bond-1 atom-1 atom-2' d='M 196.9,45.2 L 241.0,71.0' style='fill:none;fill-rule:evenodd;stroke:#7F7F7F;stroke-width:2.0px;stroke-linecap:butt;stroke-linejoin:miter;stroke-opacity:1' />\n",
       "<path class='bond-1 atom-1 atom-2' d='M 241.0,71.0 L 285.0,96.8' style='fill:none;fill-rule:evenodd;stroke:#7F7F7F;stroke-width:2.0px;stroke-linecap:butt;stroke-linejoin:miter;stroke-opacity:1' />\n",
       "<path class='bond-1 atom-1 atom-2' d='M 233.2,84.2 L 269.6,105.5' style='fill:none;fill-rule:evenodd;stroke:#7F7F7F;stroke-width:2.0px;stroke-linecap:butt;stroke-linejoin:miter;stroke-opacity:1;stroke-dasharray:2,2' />\n",
       "<path class='bond-2 atom-2 atom-3' d='M 285.0,96.8 L 284.7,147.8' style='fill:none;fill-rule:evenodd;stroke:#7F7F7F;stroke-width:2.0px;stroke-linecap:butt;stroke-linejoin:miter;stroke-opacity:1' />\n",
       "<path class='bond-2 atom-2 atom-3' d='M 284.7,147.8 L 284.3,198.8' style='fill:none;fill-rule:evenodd;stroke:#7F7F7F;stroke-width:2.0px;stroke-linecap:butt;stroke-linejoin:miter;stroke-opacity:1' />\n",
       "<path class='bond-2 atom-2 atom-3' d='M 269.4,147.7 L 269.1,189.9' style='fill:none;fill-rule:evenodd;stroke:#7F7F7F;stroke-width:2.0px;stroke-linecap:butt;stroke-linejoin:miter;stroke-opacity:1;stroke-dasharray:2,2' />\n",
       "<path class='bond-3 atom-3 atom-4' d='M 284.3,198.8 L 240.0,224.1' style='fill:none;fill-rule:evenodd;stroke:#7F7F7F;stroke-width:2.0px;stroke-linecap:butt;stroke-linejoin:miter;stroke-opacity:1' />\n",
       "<path class='bond-3 atom-3 atom-4' d='M 240.0,224.1 L 195.6,249.3' style='fill:none;fill-rule:evenodd;stroke:#7F7F7F;stroke-width:2.0px;stroke-linecap:butt;stroke-linejoin:miter;stroke-opacity:1' />\n",
       "<path class='bond-3 atom-3 atom-4' d='M 232.4,210.8 L 195.7,231.7' style='fill:none;fill-rule:evenodd;stroke:#7F7F7F;stroke-width:2.0px;stroke-linecap:butt;stroke-linejoin:miter;stroke-opacity:1;stroke-dasharray:2,2' />\n",
       "<path class='bond-4 atom-4 atom-5' d='M 195.6,249.3 L 151.6,223.5' style='fill:none;fill-rule:evenodd;stroke:#7F7F7F;stroke-width:2.0px;stroke-linecap:butt;stroke-linejoin:miter;stroke-opacity:1' />\n",
       "<path class='bond-4 atom-4 atom-5' d='M 151.6,223.5 L 107.5,197.7' style='fill:none;fill-rule:evenodd;stroke:#7F7F7F;stroke-width:2.0px;stroke-linecap:butt;stroke-linejoin:miter;stroke-opacity:1' />\n",
       "<path class='bond-4 atom-4 atom-5' d='M 159.3,210.3 L 122.9,189.0' style='fill:none;fill-rule:evenodd;stroke:#7F7F7F;stroke-width:2.0px;stroke-linecap:butt;stroke-linejoin:miter;stroke-opacity:1;stroke-dasharray:2,2' />\n",
       "<path class='bond-5 atom-5 atom-6' d='M 107.5,197.7 L 63.2,223.0' style='fill:none;fill-rule:evenodd;stroke:#7F7F7F;stroke-width:2.0px;stroke-linecap:butt;stroke-linejoin:miter;stroke-opacity:1' />\n",
       "<path class='bond-5 atom-5 atom-6' d='M 61.3,215.2 L 15.0,241.5' style='fill:none;fill-rule:evenodd;stroke:#7F7F7F;stroke-width:2.0px;stroke-linecap:butt;stroke-linejoin:miter;stroke-opacity:1' />\n",
       "<path class='bond-5 atom-5 atom-6' d='M 68.9,228.5 L 22.6,254.8' style='fill:none;fill-rule:evenodd;stroke:#7F7F7F;stroke-width:2.0px;stroke-linecap:butt;stroke-linejoin:miter;stroke-opacity:1;stroke-dasharray:2,2' />\n",
       "<path class='bond-6 atom-5 atom-0' d='M 107.5,197.7 L 107.9,146.7' style='fill:none;fill-rule:evenodd;stroke:#7F7F7F;stroke-width:2.0px;stroke-linecap:butt;stroke-linejoin:miter;stroke-opacity:1' />\n",
       "<path class='bond-6 atom-5 atom-0' d='M 107.9,146.7 L 108.2,95.6' style='fill:none;fill-rule:evenodd;stroke:#7F7F7F;stroke-width:2.0px;stroke-linecap:butt;stroke-linejoin:miter;stroke-opacity:1' />\n",
       "<path class='bond-6 atom-5 atom-0' d='M 123.2,146.8 L 123.4,104.6' style='fill:none;fill-rule:evenodd;stroke:#7F7F7F;stroke-width:2.0px;stroke-linecap:butt;stroke-linejoin:miter;stroke-opacity:1;stroke-dasharray:2,2' />\n",
       "<path d='M 110.4,94.4 L 108.2,95.6 L 108.2,98.2' style='fill:none;stroke:#7F7F7F;stroke-width:2.0px;stroke-linecap:butt;stroke-linejoin:miter;stroke-miterlimit:10;stroke-opacity:1;' />\n",
       "<path d='M 194.7,46.4 L 196.9,45.2 L 199.1,46.4' style='fill:none;stroke:#7F7F7F;stroke-width:2.0px;stroke-linecap:butt;stroke-linejoin:miter;stroke-miterlimit:10;stroke-opacity:1;' />\n",
       "<path d='M 282.8,95.5 L 285.0,96.8 L 285.0,99.3' style='fill:none;stroke:#7F7F7F;stroke-width:2.0px;stroke-linecap:butt;stroke-linejoin:miter;stroke-miterlimit:10;stroke-opacity:1;' />\n",
       "<path d='M 284.4,196.3 L 284.3,198.8 L 282.1,200.1' style='fill:none;stroke:#7F7F7F;stroke-width:2.0px;stroke-linecap:butt;stroke-linejoin:miter;stroke-miterlimit:10;stroke-opacity:1;' />\n",
       "<path d='M 197.8,248.1 L 195.6,249.3 L 193.4,248.0' style='fill:none;stroke:#7F7F7F;stroke-width:2.0px;stroke-linecap:butt;stroke-linejoin:miter;stroke-miterlimit:10;stroke-opacity:1;' />\n",
       "</svg>\n"
      ],
      "text/html": [
       "<?xml version='1.0' encoding='iso-8859-1'?>\n",
       "<svg version='1.1' baseProfile='full'\n",
       "              xmlns='http://www.w3.org/2000/svg'\n",
       "                      xmlns:rdkit='http://www.rdkit.org/xml'\n",
       "                      xmlns:xlink='http://www.w3.org/1999/xlink'\n",
       "                  xml:space='preserve'\n",
       "width='300px' height='300px' viewBox='0 0 300 300'>\n",
       "<!-- END OF HEADER -->\n",
       "<rect style='opacity:1.0;fill:#FFFFFF;stroke:none' width='300.0' height='300.0' x='0.0' y='0.0'> </rect>\n",
       "<path class='bond-0 atom-0 atom-1' d='M 108.2,95.6 L 152.5,70.4' style='fill:none;fill-rule:evenodd;stroke:#7F7F7F;stroke-width:2.0px;stroke-linecap:butt;stroke-linejoin:miter;stroke-opacity:1' />\n",
       "<path class='bond-0 atom-0 atom-1' d='M 152.5,70.4 L 196.9,45.2' style='fill:none;fill-rule:evenodd;stroke:#7F7F7F;stroke-width:2.0px;stroke-linecap:butt;stroke-linejoin:miter;stroke-opacity:1' />\n",
       "<path class='bond-0 atom-0 atom-1' d='M 160.1,83.7 L 196.8,62.8' style='fill:none;fill-rule:evenodd;stroke:#7F7F7F;stroke-width:2.0px;stroke-linecap:butt;stroke-linejoin:miter;stroke-opacity:1;stroke-dasharray:2,2' />\n",
       "<path class='bond-1 atom-1 atom-2' d='M 196.9,45.2 L 241.0,71.0' style='fill:none;fill-rule:evenodd;stroke:#7F7F7F;stroke-width:2.0px;stroke-linecap:butt;stroke-linejoin:miter;stroke-opacity:1' />\n",
       "<path class='bond-1 atom-1 atom-2' d='M 241.0,71.0 L 285.0,96.8' style='fill:none;fill-rule:evenodd;stroke:#7F7F7F;stroke-width:2.0px;stroke-linecap:butt;stroke-linejoin:miter;stroke-opacity:1' />\n",
       "<path class='bond-1 atom-1 atom-2' d='M 233.2,84.2 L 269.6,105.5' style='fill:none;fill-rule:evenodd;stroke:#7F7F7F;stroke-width:2.0px;stroke-linecap:butt;stroke-linejoin:miter;stroke-opacity:1;stroke-dasharray:2,2' />\n",
       "<path class='bond-2 atom-2 atom-3' d='M 285.0,96.8 L 284.7,147.8' style='fill:none;fill-rule:evenodd;stroke:#7F7F7F;stroke-width:2.0px;stroke-linecap:butt;stroke-linejoin:miter;stroke-opacity:1' />\n",
       "<path class='bond-2 atom-2 atom-3' d='M 284.7,147.8 L 284.3,198.8' style='fill:none;fill-rule:evenodd;stroke:#7F7F7F;stroke-width:2.0px;stroke-linecap:butt;stroke-linejoin:miter;stroke-opacity:1' />\n",
       "<path class='bond-2 atom-2 atom-3' d='M 269.4,147.7 L 269.1,189.9' style='fill:none;fill-rule:evenodd;stroke:#7F7F7F;stroke-width:2.0px;stroke-linecap:butt;stroke-linejoin:miter;stroke-opacity:1;stroke-dasharray:2,2' />\n",
       "<path class='bond-3 atom-3 atom-4' d='M 284.3,198.8 L 240.0,224.1' style='fill:none;fill-rule:evenodd;stroke:#7F7F7F;stroke-width:2.0px;stroke-linecap:butt;stroke-linejoin:miter;stroke-opacity:1' />\n",
       "<path class='bond-3 atom-3 atom-4' d='M 240.0,224.1 L 195.6,249.3' style='fill:none;fill-rule:evenodd;stroke:#7F7F7F;stroke-width:2.0px;stroke-linecap:butt;stroke-linejoin:miter;stroke-opacity:1' />\n",
       "<path class='bond-3 atom-3 atom-4' d='M 232.4,210.8 L 195.7,231.7' style='fill:none;fill-rule:evenodd;stroke:#7F7F7F;stroke-width:2.0px;stroke-linecap:butt;stroke-linejoin:miter;stroke-opacity:1;stroke-dasharray:2,2' />\n",
       "<path class='bond-4 atom-4 atom-5' d='M 195.6,249.3 L 151.6,223.5' style='fill:none;fill-rule:evenodd;stroke:#7F7F7F;stroke-width:2.0px;stroke-linecap:butt;stroke-linejoin:miter;stroke-opacity:1' />\n",
       "<path class='bond-4 atom-4 atom-5' d='M 151.6,223.5 L 107.5,197.7' style='fill:none;fill-rule:evenodd;stroke:#7F7F7F;stroke-width:2.0px;stroke-linecap:butt;stroke-linejoin:miter;stroke-opacity:1' />\n",
       "<path class='bond-4 atom-4 atom-5' d='M 159.3,210.3 L 122.9,189.0' style='fill:none;fill-rule:evenodd;stroke:#7F7F7F;stroke-width:2.0px;stroke-linecap:butt;stroke-linejoin:miter;stroke-opacity:1;stroke-dasharray:2,2' />\n",
       "<path class='bond-5 atom-5 atom-6' d='M 107.5,197.7 L 63.2,223.0' style='fill:none;fill-rule:evenodd;stroke:#7F7F7F;stroke-width:2.0px;stroke-linecap:butt;stroke-linejoin:miter;stroke-opacity:1' />\n",
       "<path class='bond-5 atom-5 atom-6' d='M 61.3,215.2 L 15.0,241.5' style='fill:none;fill-rule:evenodd;stroke:#7F7F7F;stroke-width:2.0px;stroke-linecap:butt;stroke-linejoin:miter;stroke-opacity:1' />\n",
       "<path class='bond-5 atom-5 atom-6' d='M 68.9,228.5 L 22.6,254.8' style='fill:none;fill-rule:evenodd;stroke:#7F7F7F;stroke-width:2.0px;stroke-linecap:butt;stroke-linejoin:miter;stroke-opacity:1;stroke-dasharray:2,2' />\n",
       "<path class='bond-6 atom-5 atom-0' d='M 107.5,197.7 L 107.9,146.7' style='fill:none;fill-rule:evenodd;stroke:#7F7F7F;stroke-width:2.0px;stroke-linecap:butt;stroke-linejoin:miter;stroke-opacity:1' />\n",
       "<path class='bond-6 atom-5 atom-0' d='M 107.9,146.7 L 108.2,95.6' style='fill:none;fill-rule:evenodd;stroke:#7F7F7F;stroke-width:2.0px;stroke-linecap:butt;stroke-linejoin:miter;stroke-opacity:1' />\n",
       "<path class='bond-6 atom-5 atom-0' d='M 123.2,146.8 L 123.4,104.6' style='fill:none;fill-rule:evenodd;stroke:#7F7F7F;stroke-width:2.0px;stroke-linecap:butt;stroke-linejoin:miter;stroke-opacity:1;stroke-dasharray:2,2' />\n",
       "<path d='M 110.4,94.4 L 108.2,95.6 L 108.2,98.2' style='fill:none;stroke:#7F7F7F;stroke-width:2.0px;stroke-linecap:butt;stroke-linejoin:miter;stroke-miterlimit:10;stroke-opacity:1;' />\n",
       "<path d='M 194.7,46.4 L 196.9,45.2 L 199.1,46.4' style='fill:none;stroke:#7F7F7F;stroke-width:2.0px;stroke-linecap:butt;stroke-linejoin:miter;stroke-miterlimit:10;stroke-opacity:1;' />\n",
       "<path d='M 282.8,95.5 L 285.0,96.8 L 285.0,99.3' style='fill:none;stroke:#7F7F7F;stroke-width:2.0px;stroke-linecap:butt;stroke-linejoin:miter;stroke-miterlimit:10;stroke-opacity:1;' />\n",
       "<path d='M 284.4,196.3 L 284.3,198.8 L 282.1,200.1' style='fill:none;stroke:#7F7F7F;stroke-width:2.0px;stroke-linecap:butt;stroke-linejoin:miter;stroke-miterlimit:10;stroke-opacity:1;' />\n",
       "<path d='M 197.8,248.1 L 195.6,249.3 L 193.4,248.0' style='fill:none;stroke:#7F7F7F;stroke-width:2.0px;stroke-linecap:butt;stroke-linejoin:miter;stroke-miterlimit:10;stroke-opacity:1;' />\n",
       "</svg>\n"
      ],
      "text/plain": [
       "<rdkit.Chem.rdchem.Mol at 0x1f29a1487b0>"
      ]
     },
     "execution_count": 4,
     "metadata": {},
     "output_type": "execute_result"
    }
   ],
   "source": [
    "query_mol = Chem.MolFromSmarts(\"c1ccccc1C\")\n",
    "query_mol"
   ]
  },
  {
   "cell_type": "markdown",
   "id": "fb660043",
   "metadata": {},
   "source": [
    "Now, let's create a molecule that we'll match.  As a first example, we'll use ethylbenzene. Since this is a molecule, not a query for searching, we'll use **Chem.MolFromSmiles**. "
   ]
  },
  {
   "cell_type": "code",
   "execution_count": 5,
   "id": "2f263ff8",
   "metadata": {
    "ExecuteTime": {
     "end_time": "2025-05-05T16:56:40.742978Z",
     "start_time": "2025-05-05T16:56:40.738163Z"
    }
   },
   "outputs": [
    {
     "data": {
      "image/png": "[encoded data removed]",
      "image/svg+xml": [
       "<?xml version='1.0' encoding='iso-8859-1'?>\n",
       "<svg version='1.1' baseProfile='full'\n",
       "              xmlns='http://www.w3.org/2000/svg'\n",
       "                      xmlns:rdkit='http://www.rdkit.org/xml'\n",
       "                      xmlns:xlink='http://www.w3.org/1999/xlink'\n",
       "                  xml:space='preserve'\n",
       "width='300px' height='300px' viewBox='0 0 300 300'>\n",
       "<!-- END OF HEADER -->\n",
       "<rect style='opacity:1.0;fill:#FFFFFF;stroke:none' width='300.0' height='300.0' x='0.0' y='0.0'> </rect>\n",
       "<path class='bond-0 atom-0 atom-1' d='M 150.2,110.7 L 217.9,72.2' style='fill:none;fill-rule:evenodd;stroke:#000000;stroke-width:2.0px;stroke-linecap:butt;stroke-linejoin:miter;stroke-opacity:1' />\n",
       "<path class='bond-0 atom-0 atom-1' d='M 161.9,117.5 L 217.8,85.7' style='fill:none;fill-rule:evenodd;stroke:#000000;stroke-width:2.0px;stroke-linecap:butt;stroke-linejoin:miter;stroke-opacity:1' />\n",
       "<path class='bond-1 atom-1 atom-2' d='M 217.9,72.2 L 285.0,111.5' style='fill:none;fill-rule:evenodd;stroke:#000000;stroke-width:2.0px;stroke-linecap:butt;stroke-linejoin:miter;stroke-opacity:1' />\n",
       "<path class='bond-2 atom-2 atom-3' d='M 285.0,111.5 L 284.5,189.3' style='fill:none;fill-rule:evenodd;stroke:#000000;stroke-width:2.0px;stroke-linecap:butt;stroke-linejoin:miter;stroke-opacity:1' />\n",
       "<path class='bond-2 atom-2 atom-3' d='M 273.3,118.2 L 272.9,182.5' style='fill:none;fill-rule:evenodd;stroke:#000000;stroke-width:2.0px;stroke-linecap:butt;stroke-linejoin:miter;stroke-opacity:1' />\n",
       "<path class='bond-3 atom-3 atom-4' d='M 284.5,189.3 L 216.9,227.8' style='fill:none;fill-rule:evenodd;stroke:#000000;stroke-width:2.0px;stroke-linecap:butt;stroke-linejoin:miter;stroke-opacity:1' />\n",
       "<path class='bond-4 atom-4 atom-5' d='M 216.9,227.8 L 149.8,188.5' style='fill:none;fill-rule:evenodd;stroke:#000000;stroke-width:2.0px;stroke-linecap:butt;stroke-linejoin:miter;stroke-opacity:1' />\n",
       "<path class='bond-4 atom-4 atom-5' d='M 217.0,214.3 L 161.5,181.8' style='fill:none;fill-rule:evenodd;stroke:#000000;stroke-width:2.0px;stroke-linecap:butt;stroke-linejoin:miter;stroke-opacity:1' />\n",
       "<path class='bond-5 atom-5 atom-6' d='M 149.8,188.5 L 82.1,226.9' style='fill:none;fill-rule:evenodd;stroke:#000000;stroke-width:2.0px;stroke-linecap:butt;stroke-linejoin:miter;stroke-opacity:1' />\n",
       "<path class='bond-6 atom-6 atom-7' d='M 82.1,226.9 L 15.0,187.6' style='fill:none;fill-rule:evenodd;stroke:#000000;stroke-width:2.0px;stroke-linecap:butt;stroke-linejoin:miter;stroke-opacity:1' />\n",
       "<path class='bond-7 atom-5 atom-0' d='M 149.8,188.5 L 150.2,110.7' style='fill:none;fill-rule:evenodd;stroke:#000000;stroke-width:2.0px;stroke-linecap:butt;stroke-linejoin:miter;stroke-opacity:1' />\n",
       "<path d='M 153.6,108.7 L 150.2,110.7 L 150.2,114.6' style='fill:none;stroke:#000000;stroke-width:2.0px;stroke-linecap:butt;stroke-linejoin:miter;stroke-miterlimit:10;stroke-opacity:1;' />\n",
       "<path d='M 214.5,74.1 L 217.9,72.2 L 221.2,74.2' style='fill:none;stroke:#000000;stroke-width:2.0px;stroke-linecap:butt;stroke-linejoin:miter;stroke-miterlimit:10;stroke-opacity:1;' />\n",
       "<path d='M 281.6,109.6 L 285.0,111.5 L 285.0,115.4' style='fill:none;stroke:#000000;stroke-width:2.0px;stroke-linecap:butt;stroke-linejoin:miter;stroke-miterlimit:10;stroke-opacity:1;' />\n",
       "<path d='M 284.5,185.4 L 284.5,189.3 L 281.1,191.3' style='fill:none;stroke:#000000;stroke-width:2.0px;stroke-linecap:butt;stroke-linejoin:miter;stroke-miterlimit:10;stroke-opacity:1;' />\n",
       "<path d='M 220.3,225.9 L 216.9,227.8 L 213.5,225.8' style='fill:none;stroke:#000000;stroke-width:2.0px;stroke-linecap:butt;stroke-linejoin:miter;stroke-miterlimit:10;stroke-opacity:1;' />\n",
       "<path d='M 85.5,225.0 L 82.1,226.9 L 78.8,225.0' style='fill:none;stroke:#000000;stroke-width:2.0px;stroke-linecap:butt;stroke-linejoin:miter;stroke-miterlimit:10;stroke-opacity:1;' />\n",
       "</svg>\n"
      ],
      "text/html": [
       "<?xml version='1.0' encoding='iso-8859-1'?>\n",
       "<svg version='1.1' baseProfile='full'\n",
       "              xmlns='http://www.w3.org/2000/svg'\n",
       "                      xmlns:rdkit='http://www.rdkit.org/xml'\n",
       "                      xmlns:xlink='http://www.w3.org/1999/xlink'\n",
       "                  xml:space='preserve'\n",
       "width='300px' height='300px' viewBox='0 0 300 300'>\n",
       "<!-- END OF HEADER -->\n",
       "<rect style='opacity:1.0;fill:#FFFFFF;stroke:none' width='300.0' height='300.0' x='0.0' y='0.0'> </rect>\n",
       "<path class='bond-0 atom-0 atom-1' d='M 150.2,110.7 L 217.9,72.2' style='fill:none;fill-rule:evenodd;stroke:#000000;stroke-width:2.0px;stroke-linecap:butt;stroke-linejoin:miter;stroke-opacity:1' />\n",
       "<path class='bond-0 atom-0 atom-1' d='M 161.9,117.5 L 217.8,85.7' style='fill:none;fill-rule:evenodd;stroke:#000000;stroke-width:2.0px;stroke-linecap:butt;stroke-linejoin:miter;stroke-opacity:1' />\n",
       "<path class='bond-1 atom-1 atom-2' d='M 217.9,72.2 L 285.0,111.5' style='fill:none;fill-rule:evenodd;stroke:#000000;stroke-width:2.0px;stroke-linecap:butt;stroke-linejoin:miter;stroke-opacity:1' />\n",
       "<path class='bond-2 atom-2 atom-3' d='M 285.0,111.5 L 284.5,189.3' style='fill:none;fill-rule:evenodd;stroke:#000000;stroke-width:2.0px;stroke-linecap:butt;stroke-linejoin:miter;stroke-opacity:1' />\n",
       "<path class='bond-2 atom-2 atom-3' d='M 273.3,118.2 L 272.9,182.5' style='fill:none;fill-rule:evenodd;stroke:#000000;stroke-width:2.0px;stroke-linecap:butt;stroke-linejoin:miter;stroke-opacity:1' />\n",
       "<path class='bond-3 atom-3 atom-4' d='M 284.5,189.3 L 216.9,227.8' style='fill:none;fill-rule:evenodd;stroke:#000000;stroke-width:2.0px;stroke-linecap:butt;stroke-linejoin:miter;stroke-opacity:1' />\n",
       "<path class='bond-4 atom-4 atom-5' d='M 216.9,227.8 L 149.8,188.5' style='fill:none;fill-rule:evenodd;stroke:#000000;stroke-width:2.0px;stroke-linecap:butt;stroke-linejoin:miter;stroke-opacity:1' />\n",
       "<path class='bond-4 atom-4 atom-5' d='M 217.0,214.3 L 161.5,181.8' style='fill:none;fill-rule:evenodd;stroke:#000000;stroke-width:2.0px;stroke-linecap:butt;stroke-linejoin:miter;stroke-opacity:1' />\n",
       "<path class='bond-5 atom-5 atom-6' d='M 149.8,188.5 L 82.1,226.9' style='fill:none;fill-rule:evenodd;stroke:#000000;stroke-width:2.0px;stroke-linecap:butt;stroke-linejoin:miter;stroke-opacity:1' />\n",
       "<path class='bond-6 atom-6 atom-7' d='M 82.1,226.9 L 15.0,187.6' style='fill:none;fill-rule:evenodd;stroke:#000000;stroke-width:2.0px;stroke-linecap:butt;stroke-linejoin:miter;stroke-opacity:1' />\n",
       "<path class='bond-7 atom-5 atom-0' d='M 149.8,188.5 L 150.2,110.7' style='fill:none;fill-rule:evenodd;stroke:#000000;stroke-width:2.0px;stroke-linecap:butt;stroke-linejoin:miter;stroke-opacity:1' />\n",
       "<path d='M 153.6,108.7 L 150.2,110.7 L 150.2,114.6' style='fill:none;stroke:#000000;stroke-width:2.0px;stroke-linecap:butt;stroke-linejoin:miter;stroke-miterlimit:10;stroke-opacity:1;' />\n",
       "<path d='M 214.5,74.1 L 217.9,72.2 L 221.2,74.2' style='fill:none;stroke:#000000;stroke-width:2.0px;stroke-linecap:butt;stroke-linejoin:miter;stroke-miterlimit:10;stroke-opacity:1;' />\n",
       "<path d='M 281.6,109.6 L 285.0,111.5 L 285.0,115.4' style='fill:none;stroke:#000000;stroke-width:2.0px;stroke-linecap:butt;stroke-linejoin:miter;stroke-miterlimit:10;stroke-opacity:1;' />\n",
       "<path d='M 284.5,185.4 L 284.5,189.3 L 281.1,191.3' style='fill:none;stroke:#000000;stroke-width:2.0px;stroke-linecap:butt;stroke-linejoin:miter;stroke-miterlimit:10;stroke-opacity:1;' />\n",
       "<path d='M 220.3,225.9 L 216.9,227.8 L 213.5,225.8' style='fill:none;stroke:#000000;stroke-width:2.0px;stroke-linecap:butt;stroke-linejoin:miter;stroke-miterlimit:10;stroke-opacity:1;' />\n",
       "<path d='M 85.5,225.0 L 82.1,226.9 L 78.8,225.0' style='fill:none;stroke:#000000;stroke-width:2.0px;stroke-linecap:butt;stroke-linejoin:miter;stroke-miterlimit:10;stroke-opacity:1;' />\n",
       "</svg>\n"
      ],
      "text/plain": [
       "<rdkit.Chem.rdchem.Mol at 0x1f29a148740>"
      ]
     },
     "execution_count": 5,
     "metadata": {},
     "output_type": "execute_result"
    }
   ],
   "source": [
    "ethyl_benzene = Chem.MolFromSmiles(\"c1ccccc1CC\")\n",
    "ethyl_benzene"
   ]
  },
  {
   "cell_type": "markdown",
   "id": "434963b9",
   "metadata": {},
   "source": [
    "We can now see if our query matches ethyl benzene by using the **HasSubstructMatch** method of the ethyl_benzene molecule object."
   ]
  },
  {
   "cell_type": "code",
   "execution_count": 6,
   "id": "4c73a348",
   "metadata": {
    "ExecuteTime": {
     "end_time": "2025-05-05T16:56:40.754988Z",
     "start_time": "2025-05-05T16:56:40.753011Z"
    }
   },
   "outputs": [
    {
     "data": {
      "text/plain": [
       "True"
      ]
     },
     "execution_count": 6,
     "metadata": {},
     "output_type": "execute_result"
    }
   ],
   "source": [
    "ethyl_benzene.HasSubstructMatch(query_mol)"
   ]
  },
  {
   "cell_type": "markdown",
   "id": "dd856883",
   "metadata": {},
   "source": [
    "The value **True** above indicates that the ethyl_benzene molecule object does indeed contain the substructure specified by query_mol. We can use the function **GetSubstructMatch** to identify the specific atoms matching a pattern. The code below shows that the pattern specified by query_mol matches atoms 0,1,2,3,4,5 and 6.  "
   ]
  },
  {
   "cell_type": "code",
   "execution_count": 7,
   "id": "a0df7a51",
   "metadata": {
    "ExecuteTime": {
     "end_time": "2025-05-05T16:56:40.768120Z",
     "start_time": "2025-05-05T16:56:40.765869Z"
    }
   },
   "outputs": [
    {
     "data": {
      "text/plain": [
       "(0, 1, 2, 3, 4, 5, 6)"
      ]
     },
     "execution_count": 7,
     "metadata": {},
     "output_type": "execute_result"
    }
   ],
   "source": [
    "ethyl_benzene.GetSubstructMatch(query_mol)"
   ]
  },
  {
   "cell_type": "markdown",
   "id": "a3aa920f",
   "metadata": {},
   "source": [
    "One interesting side effect of the call to GetSubstructMatch above is that the depiction shows the selected atoms as highlighted. "
   ]
  },
  {
   "cell_type": "code",
   "execution_count": 8,
   "id": "d58f1b2c",
   "metadata": {
    "ExecuteTime": {
     "end_time": "2025-05-05T16:56:40.787210Z",
     "start_time": "2025-05-05T16:56:40.779868Z"
    }
   },
   "outputs": [
    {
     "data": {
      "image/png": "[encoded data removed]",
      "image/svg+xml": [
       "<?xml version='1.0' encoding='iso-8859-1'?>\n",
       "<svg version='1.1' baseProfile='full'\n",
       "              xmlns='http://www.w3.org/2000/svg'\n",
       "                      xmlns:rdkit='http://www.rdkit.org/xml'\n",
       "                      xmlns:xlink='http://www.w3.org/1999/xlink'\n",
       "                  xml:space='preserve'\n",
       "width='300px' height='300px' viewBox='0 0 300 300'>\n",
       "<!-- END OF HEADER -->\n",
       "<rect style='opacity:1.0;fill:#FFFFFF;stroke:none' width='300.0' height='300.0' x='0.0' y='0.0'> </rect>\n",
       "<path class='bond-0 atom-0 atom-1' d='M 201.8,65.2 L 201.6,91.6 L 150.9,120.5 L 128.1,107.1 Z' style='fill:#FF7F7F;fill-rule:evenodd;fill-opacity:1;stroke:#FF7F7F;stroke-width:0.0px;stroke-linecap:butt;stroke-linejoin:miter;stroke-miterlimit:10;stroke-opacity:1;' />\n",
       "<path class='bond-7 atom-0 atom-5' d='M 128.1,107.1 L 150.9,120.5 L 150.5,178.9 L 139.0,185.4 L 127.6,178.7 Z' style='fill:#FF7F7F;fill-rule:evenodd;fill-opacity:1;stroke:#FF7F7F;stroke-width:0.0px;stroke-linecap:butt;stroke-linejoin:miter;stroke-miterlimit:10;stroke-opacity:1;' />\n",
       "<path class='bond-1 atom-1 atom-2' d='M 201.8,65.2 L 275.0,108.1 L 252.0,121.1 L 201.6,91.6 Z' style='fill:#FF7F7F;fill-rule:evenodd;fill-opacity:1;stroke:#FF7F7F;stroke-width:0.0px;stroke-linecap:butt;stroke-linejoin:miter;stroke-miterlimit:10;stroke-opacity:1;' />\n",
       "<path class='bond-2 atom-2 atom-3' d='M 275.0,108.1 L 274.5,192.9 L 251.6,179.5 L 252.0,121.1 Z' style='fill:#FF7F7F;fill-rule:evenodd;fill-opacity:1;stroke:#FF7F7F;stroke-width:0.0px;stroke-linecap:butt;stroke-linejoin:miter;stroke-miterlimit:10;stroke-opacity:1;' />\n",
       "<path class='bond-3 atom-3 atom-4' d='M 251.6,179.5 L 274.5,192.9 L 200.7,234.8 L 200.9,208.4 Z' style='fill:#FF7F7F;fill-rule:evenodd;fill-opacity:1;stroke:#FF7F7F;stroke-width:0.0px;stroke-linecap:butt;stroke-linejoin:miter;stroke-miterlimit:10;stroke-opacity:1;' />\n",
       "<path class='bond-4 atom-4 atom-5' d='M 150.5,178.9 L 200.9,208.4 L 200.7,234.8 L 138.9,198.6 L 139.0,185.4 Z' style='fill:#FF7F7F;fill-rule:evenodd;fill-opacity:1;stroke:#FF7F7F;stroke-width:0.0px;stroke-linecap:butt;stroke-linejoin:miter;stroke-miterlimit:10;stroke-opacity:1;' />\n",
       "<path class='bond-5 atom-5 atom-6' d='M 127.6,178.7 L 139.0,185.4 L 138.9,198.6 L 82.5,230.8 L 71.1,210.8 Z' style='fill:#FF7F7F;fill-rule:evenodd;fill-opacity:1;stroke:#FF7F7F;stroke-width:0.0px;stroke-linecap:butt;stroke-linejoin:miter;stroke-miterlimit:10;stroke-opacity:1;' />\n",
       "<ellipse cx='139.5' cy='113.8' rx='21.5' ry='21.5' class='atom-0'  style='fill:#FF7F7F;fill-rule:evenodd;stroke:#FF7F7F;stroke-width:1.0px;stroke-linecap:butt;stroke-linejoin:miter;stroke-opacity:1' />\n",
       "<ellipse cx='201.7' cy='78.4' rx='21.5' ry='21.5' class='atom-1'  style='fill:#FF7F7F;fill-rule:evenodd;stroke:#FF7F7F;stroke-width:1.0px;stroke-linecap:butt;stroke-linejoin:miter;stroke-opacity:1' />\n",
       "<ellipse cx='263.5' cy='114.6' rx='21.5' ry='21.5' class='atom-2'  style='fill:#FF7F7F;fill-rule:evenodd;stroke:#FF7F7F;stroke-width:1.0px;stroke-linecap:butt;stroke-linejoin:miter;stroke-opacity:1' />\n",
       "<ellipse cx='263.1' cy='186.2' rx='21.5' ry='21.5' class='atom-3'  style='fill:#FF7F7F;fill-rule:evenodd;stroke:#FF7F7F;stroke-width:1.0px;stroke-linecap:butt;stroke-linejoin:miter;stroke-opacity:1' />\n",
       "<ellipse cx='200.8' cy='221.6' rx='21.5' ry='21.5' class='atom-4'  style='fill:#FF7F7F;fill-rule:evenodd;stroke:#FF7F7F;stroke-width:1.0px;stroke-linecap:butt;stroke-linejoin:miter;stroke-opacity:1' />\n",
       "<ellipse cx='139.0' cy='185.4' rx='21.5' ry='21.5' class='atom-5'  style='fill:#FF7F7F;fill-rule:evenodd;stroke:#FF7F7F;stroke-width:1.0px;stroke-linecap:butt;stroke-linejoin:miter;stroke-opacity:1' />\n",
       "<ellipse cx='76.8' cy='220.8' rx='21.5' ry='21.5' class='atom-6'  style='fill:#FF7F7F;fill-rule:evenodd;stroke:#FF7F7F;stroke-width:1.0px;stroke-linecap:butt;stroke-linejoin:miter;stroke-opacity:1' />\n",
       "<path class='bond-0 atom-0 atom-1' d='M 139.5,113.8 L 201.7,78.4' style='fill:none;fill-rule:evenodd;stroke:#000000;stroke-width:2.0px;stroke-linecap:butt;stroke-linejoin:miter;stroke-opacity:1' />\n",
       "<path class='bond-0 atom-0 atom-1' d='M 150.2,120.1 L 201.7,90.8' style='fill:none;fill-rule:evenodd;stroke:#000000;stroke-width:2.0px;stroke-linecap:butt;stroke-linejoin:miter;stroke-opacity:1' />\n",
       "<path class='bond-1 atom-1 atom-2' d='M 201.7,78.4 L 263.5,114.6' style='fill:none;fill-rule:evenodd;stroke:#000000;stroke-width:2.0px;stroke-linecap:butt;stroke-linejoin:miter;stroke-opacity:1' />\n",
       "<path class='bond-2 atom-2 atom-3' d='M 263.5,114.6 L 263.1,186.2' style='fill:none;fill-rule:evenodd;stroke:#000000;stroke-width:2.0px;stroke-linecap:butt;stroke-linejoin:miter;stroke-opacity:1' />\n",
       "<path class='bond-2 atom-2 atom-3' d='M 252.7,120.7 L 252.4,179.9' style='fill:none;fill-rule:evenodd;stroke:#000000;stroke-width:2.0px;stroke-linecap:butt;stroke-linejoin:miter;stroke-opacity:1' />\n",
       "<path class='bond-3 atom-3 atom-4' d='M 263.1,186.2 L 200.8,221.6' style='fill:none;fill-rule:evenodd;stroke:#000000;stroke-width:2.0px;stroke-linecap:butt;stroke-linejoin:miter;stroke-opacity:1' />\n",
       "<path class='bond-4 atom-4 atom-5' d='M 200.8,221.6 L 139.0,185.4' style='fill:none;fill-rule:evenodd;stroke:#000000;stroke-width:2.0px;stroke-linecap:butt;stroke-linejoin:miter;stroke-opacity:1' />\n",
       "<path class='bond-4 atom-4 atom-5' d='M 200.9,209.2 L 149.8,179.3' style='fill:none;fill-rule:evenodd;stroke:#000000;stroke-width:2.0px;stroke-linecap:butt;stroke-linejoin:miter;stroke-opacity:1' />\n",
       "<path class='bond-5 atom-5 atom-6' d='M 139.0,185.4 L 76.8,220.8' style='fill:none;fill-rule:evenodd;stroke:#000000;stroke-width:2.0px;stroke-linecap:butt;stroke-linejoin:miter;stroke-opacity:1' />\n",
       "<path class='bond-6 atom-6 atom-7' d='M 76.8,220.8 L 15.0,184.6' style='fill:none;fill-rule:evenodd;stroke:#000000;stroke-width:2.0px;stroke-linecap:butt;stroke-linejoin:miter;stroke-opacity:1' />\n",
       "<path class='bond-7 atom-5 atom-0' d='M 139.0,185.4 L 139.5,113.8' style='fill:none;fill-rule:evenodd;stroke:#000000;stroke-width:2.0px;stroke-linecap:butt;stroke-linejoin:miter;stroke-opacity:1' />\n",
       "<path d='M 142.6,112.0 L 139.5,113.8 L 139.5,117.4' style='fill:none;stroke:#000000;stroke-width:2.0px;stroke-linecap:butt;stroke-linejoin:miter;stroke-miterlimit:10;stroke-opacity:1;' />\n",
       "<path d='M 198.6,80.2 L 201.7,78.4 L 204.8,80.2' style='fill:none;stroke:#000000;stroke-width:2.0px;stroke-linecap:butt;stroke-linejoin:miter;stroke-miterlimit:10;stroke-opacity:1;' />\n",
       "<path d='M 260.4,112.8 L 263.5,114.6 L 263.5,118.2' style='fill:none;stroke:#000000;stroke-width:2.0px;stroke-linecap:butt;stroke-linejoin:miter;stroke-miterlimit:10;stroke-opacity:1;' />\n",
       "<path d='M 263.1,182.6 L 263.1,186.2 L 259.9,188.0' style='fill:none;stroke:#000000;stroke-width:2.0px;stroke-linecap:butt;stroke-linejoin:miter;stroke-miterlimit:10;stroke-opacity:1;' />\n",
       "<path d='M 203.9,219.8 L 200.8,221.6 L 197.7,219.8' style='fill:none;stroke:#000000;stroke-width:2.0px;stroke-linecap:butt;stroke-linejoin:miter;stroke-miterlimit:10;stroke-opacity:1;' />\n",
       "<path d='M 79.9,219.0 L 76.8,220.8 L 73.7,219.0' style='fill:none;stroke:#000000;stroke-width:2.0px;stroke-linecap:butt;stroke-linejoin:miter;stroke-miterlimit:10;stroke-opacity:1;' />\n",
       "</svg>\n"
      ],
      "text/html": [
       "<?xml version='1.0' encoding='iso-8859-1'?>\n",
       "<svg version='1.1' baseProfile='full'\n",
       "              xmlns='http://www.w3.org/2000/svg'\n",
       "                      xmlns:rdkit='http://www.rdkit.org/xml'\n",
       "                      xmlns:xlink='http://www.w3.org/1999/xlink'\n",
       "                  xml:space='preserve'\n",
       "width='300px' height='300px' viewBox='0 0 300 300'>\n",
       "<!-- END OF HEADER -->\n",
       "<rect style='opacity:1.0;fill:#FFFFFF;stroke:none' width='300.0' height='300.0' x='0.0' y='0.0'> </rect>\n",
       "<path class='bond-0 atom-0 atom-1' d='M 201.8,65.2 L 201.6,91.6 L 150.9,120.5 L 128.1,107.1 Z' style='fill:#FF7F7F;fill-rule:evenodd;fill-opacity:1;stroke:#FF7F7F;stroke-width:0.0px;stroke-linecap:butt;stroke-linejoin:miter;stroke-miterlimit:10;stroke-opacity:1;' />\n",
       "<path class='bond-7 atom-0 atom-5' d='M 128.1,107.1 L 150.9,120.5 L 150.5,178.9 L 139.0,185.4 L 127.6,178.7 Z' style='fill:#FF7F7F;fill-rule:evenodd;fill-opacity:1;stroke:#FF7F7F;stroke-width:0.0px;stroke-linecap:butt;stroke-linejoin:miter;stroke-miterlimit:10;stroke-opacity:1;' />\n",
       "<path class='bond-1 atom-1 atom-2' d='M 201.8,65.2 L 275.0,108.1 L 252.0,121.1 L 201.6,91.6 Z' style='fill:#FF7F7F;fill-rule:evenodd;fill-opacity:1;stroke:#FF7F7F;stroke-width:0.0px;stroke-linecap:butt;stroke-linejoin:miter;stroke-miterlimit:10;stroke-opacity:1;' />\n",
       "<path class='bond-2 atom-2 atom-3' d='M 275.0,108.1 L 274.5,192.9 L 251.6,179.5 L 252.0,121.1 Z' style='fill:#FF7F7F;fill-rule:evenodd;fill-opacity:1;stroke:#FF7F7F;stroke-width:0.0px;stroke-linecap:butt;stroke-linejoin:miter;stroke-miterlimit:10;stroke-opacity:1;' />\n",
       "<path class='bond-3 atom-3 atom-4' d='M 251.6,179.5 L 274.5,192.9 L 200.7,234.8 L 200.9,208.4 Z' style='fill:#FF7F7F;fill-rule:evenodd;fill-opacity:1;stroke:#FF7F7F;stroke-width:0.0px;stroke-linecap:butt;stroke-linejoin:miter;stroke-miterlimit:10;stroke-opacity:1;' />\n",
       "<path class='bond-4 atom-4 atom-5' d='M 150.5,178.9 L 200.9,208.4 L 200.7,234.8 L 138.9,198.6 L 139.0,185.4 Z' style='fill:#FF7F7F;fill-rule:evenodd;fill-opacity:1;stroke:#FF7F7F;stroke-width:0.0px;stroke-linecap:butt;stroke-linejoin:miter;stroke-miterlimit:10;stroke-opacity:1;' />\n",
       "<path class='bond-5 atom-5 atom-6' d='M 127.6,178.7 L 139.0,185.4 L 138.9,198.6 L 82.5,230.8 L 71.1,210.8 Z' style='fill:#FF7F7F;fill-rule:evenodd;fill-opacity:1;stroke:#FF7F7F;stroke-width:0.0px;stroke-linecap:butt;stroke-linejoin:miter;stroke-miterlimit:10;stroke-opacity:1;' />\n",
       "<ellipse cx='139.5' cy='113.8' rx='21.5' ry='21.5' class='atom-0'  style='fill:#FF7F7F;fill-rule:evenodd;stroke:#FF7F7F;stroke-width:1.0px;stroke-linecap:butt;stroke-linejoin:miter;stroke-opacity:1' />\n",
       "<ellipse cx='201.7' cy='78.4' rx='21.5' ry='21.5' class='atom-1'  style='fill:#FF7F7F;fill-rule:evenodd;stroke:#FF7F7F;stroke-width:1.0px;stroke-linecap:butt;stroke-linejoin:miter;stroke-opacity:1' />\n",
       "<ellipse cx='263.5' cy='114.6' rx='21.5' ry='21.5' class='atom-2'  style='fill:#FF7F7F;fill-rule:evenodd;stroke:#FF7F7F;stroke-width:1.0px;stroke-linecap:butt;stroke-linejoin:miter;stroke-opacity:1' />\n",
       "<ellipse cx='263.1' cy='186.2' rx='21.5' ry='21.5' class='atom-3'  style='fill:#FF7F7F;fill-rule:evenodd;stroke:#FF7F7F;stroke-width:1.0px;stroke-linecap:butt;stroke-linejoin:miter;stroke-opacity:1' />\n",
       "<ellipse cx='200.8' cy='221.6' rx='21.5' ry='21.5' class='atom-4'  style='fill:#FF7F7F;fill-rule:evenodd;stroke:#FF7F7F;stroke-width:1.0px;stroke-linecap:butt;stroke-linejoin:miter;stroke-opacity:1' />\n",
       "<ellipse cx='139.0' cy='185.4' rx='21.5' ry='21.5' class='atom-5'  style='fill:#FF7F7F;fill-rule:evenodd;stroke:#FF7F7F;stroke-width:1.0px;stroke-linecap:butt;stroke-linejoin:miter;stroke-opacity:1' />\n",
       "<ellipse cx='76.8' cy='220.8' rx='21.5' ry='21.5' class='atom-6'  style='fill:#FF7F7F;fill-rule:evenodd;stroke:#FF7F7F;stroke-width:1.0px;stroke-linecap:butt;stroke-linejoin:miter;stroke-opacity:1' />\n",
       "<path class='bond-0 atom-0 atom-1' d='M 139.5,113.8 L 201.7,78.4' style='fill:none;fill-rule:evenodd;stroke:#000000;stroke-width:2.0px;stroke-linecap:butt;stroke-linejoin:miter;stroke-opacity:1' />\n",
       "<path class='bond-0 atom-0 atom-1' d='M 150.2,120.1 L 201.7,90.8' style='fill:none;fill-rule:evenodd;stroke:#000000;stroke-width:2.0px;stroke-linecap:butt;stroke-linejoin:miter;stroke-opacity:1' />\n",
       "<path class='bond-1 atom-1 atom-2' d='M 201.7,78.4 L 263.5,114.6' style='fill:none;fill-rule:evenodd;stroke:#000000;stroke-width:2.0px;stroke-linecap:butt;stroke-linejoin:miter;stroke-opacity:1' />\n",
       "<path class='bond-2 atom-2 atom-3' d='M 263.5,114.6 L 263.1,186.2' style='fill:none;fill-rule:evenodd;stroke:#000000;stroke-width:2.0px;stroke-linecap:butt;stroke-linejoin:miter;stroke-opacity:1' />\n",
       "<path class='bond-2 atom-2 atom-3' d='M 252.7,120.7 L 252.4,179.9' style='fill:none;fill-rule:evenodd;stroke:#000000;stroke-width:2.0px;stroke-linecap:butt;stroke-linejoin:miter;stroke-opacity:1' />\n",
       "<path class='bond-3 atom-3 atom-4' d='M 263.1,186.2 L 200.8,221.6' style='fill:none;fill-rule:evenodd;stroke:#000000;stroke-width:2.0px;stroke-linecap:butt;stroke-linejoin:miter;stroke-opacity:1' />\n",
       "<path class='bond-4 atom-4 atom-5' d='M 200.8,221.6 L 139.0,185.4' style='fill:none;fill-rule:evenodd;stroke:#000000;stroke-width:2.0px;stroke-linecap:butt;stroke-linejoin:miter;stroke-opacity:1' />\n",
       "<path class='bond-4 atom-4 atom-5' d='M 200.9,209.2 L 149.8,179.3' style='fill:none;fill-rule:evenodd;stroke:#000000;stroke-width:2.0px;stroke-linecap:butt;stroke-linejoin:miter;stroke-opacity:1' />\n",
       "<path class='bond-5 atom-5 atom-6' d='M 139.0,185.4 L 76.8,220.8' style='fill:none;fill-rule:evenodd;stroke:#000000;stroke-width:2.0px;stroke-linecap:butt;stroke-linejoin:miter;stroke-opacity:1' />\n",
       "<path class='bond-6 atom-6 atom-7' d='M 76.8,220.8 L 15.0,184.6' style='fill:none;fill-rule:evenodd;stroke:#000000;stroke-width:2.0px;stroke-linecap:butt;stroke-linejoin:miter;stroke-opacity:1' />\n",
       "<path class='bond-7 atom-5 atom-0' d='M 139.0,185.4 L 139.5,113.8' style='fill:none;fill-rule:evenodd;stroke:#000000;stroke-width:2.0px;stroke-linecap:butt;stroke-linejoin:miter;stroke-opacity:1' />\n",
       "<path d='M 142.6,112.0 L 139.5,113.8 L 139.5,117.4' style='fill:none;stroke:#000000;stroke-width:2.0px;stroke-linecap:butt;stroke-linejoin:miter;stroke-miterlimit:10;stroke-opacity:1;' />\n",
       "<path d='M 198.6,80.2 L 201.7,78.4 L 204.8,80.2' style='fill:none;stroke:#000000;stroke-width:2.0px;stroke-linecap:butt;stroke-linejoin:miter;stroke-miterlimit:10;stroke-opacity:1;' />\n",
       "<path d='M 260.4,112.8 L 263.5,114.6 L 263.5,118.2' style='fill:none;stroke:#000000;stroke-width:2.0px;stroke-linecap:butt;stroke-linejoin:miter;stroke-miterlimit:10;stroke-opacity:1;' />\n",
       "<path d='M 263.1,182.6 L 263.1,186.2 L 259.9,188.0' style='fill:none;stroke:#000000;stroke-width:2.0px;stroke-linecap:butt;stroke-linejoin:miter;stroke-miterlimit:10;stroke-opacity:1;' />\n",
       "<path d='M 203.9,219.8 L 200.8,221.6 L 197.7,219.8' style='fill:none;stroke:#000000;stroke-width:2.0px;stroke-linecap:butt;stroke-linejoin:miter;stroke-miterlimit:10;stroke-opacity:1;' />\n",
       "<path d='M 79.9,219.0 L 76.8,220.8 L 73.7,219.0' style='fill:none;stroke:#000000;stroke-width:2.0px;stroke-linecap:butt;stroke-linejoin:miter;stroke-miterlimit:10;stroke-opacity:1;' />\n",
       "</svg>\n"
      ],
      "text/plain": [
       "<rdkit.Chem.rdchem.Mol at 0x1f29a148740>"
      ]
     },
     "execution_count": 8,
     "metadata": {},
     "output_type": "execute_result"
    }
   ],
   "source": [
    "ethyl_benzene"
   ]
  },
  {
   "cell_type": "markdown",
   "id": "29ff8e72",
   "metadata": {},
   "source": [
    "### Properties of Atoms\n",
    "\n",
    "So far so good, now let's create another molecule and look at how our pattern matches. This time we'll use biphenyl. "
   ]
  },
  {
   "cell_type": "code",
   "execution_count": 9,
   "id": "46fcaaa1",
   "metadata": {
    "ExecuteTime": {
     "end_time": "2025-05-05T16:56:40.796841Z",
     "start_time": "2025-05-05T16:56:40.791511Z"
    }
   },
   "outputs": [
    {
     "data": {
      "image/png": "[encoded data removed]",
      "image/svg+xml": [
       "<?xml version='1.0' encoding='iso-8859-1'?>\n",
       "<svg version='1.1' baseProfile='full'\n",
       "              xmlns='http://www.w3.org/2000/svg'\n",
       "                      xmlns:rdkit='http://www.rdkit.org/xml'\n",
       "                      xmlns:xlink='http://www.w3.org/1999/xlink'\n",
       "                  xml:space='preserve'\n",
       "width='300px' height='300px' viewBox='0 0 300 300'>\n",
       "<!-- END OF HEADER -->\n",
       "<rect style='opacity:1.0;fill:#FFFFFF;stroke:none' width='300.0' height='300.0' x='0.0' y='0.0'> </rect>\n",
       "<path class='bond-0 atom-0 atom-1' d='M 196.7,95.9 L 196.5,41.9' style='fill:none;fill-rule:evenodd;stroke:#000000;stroke-width:2.0px;stroke-linecap:butt;stroke-linejoin:miter;stroke-opacity:1' />\n",
       "<path class='bond-0 atom-0 atom-1' d='M 188.5,91.2 L 188.5,46.6' style='fill:none;fill-rule:evenodd;stroke:#000000;stroke-width:2.0px;stroke-linecap:butt;stroke-linejoin:miter;stroke-opacity:1' />\n",
       "<path class='bond-1 atom-1 atom-2' d='M 196.5,41.9 L 149.7,15.0' style='fill:none;fill-rule:evenodd;stroke:#000000;stroke-width:2.0px;stroke-linecap:butt;stroke-linejoin:miter;stroke-opacity:1' />\n",
       "<path class='bond-2 atom-2 atom-3' d='M 149.7,15.0 L 103.0,42.1' style='fill:none;fill-rule:evenodd;stroke:#000000;stroke-width:2.0px;stroke-linecap:butt;stroke-linejoin:miter;stroke-opacity:1' />\n",
       "<path class='bond-2 atom-2 atom-3' d='M 149.7,24.4 L 111.1,46.8' style='fill:none;fill-rule:evenodd;stroke:#000000;stroke-width:2.0px;stroke-linecap:butt;stroke-linejoin:miter;stroke-opacity:1' />\n",
       "<path class='bond-3 atom-3 atom-4' d='M 103.0,42.1 L 103.1,96.1' style='fill:none;fill-rule:evenodd;stroke:#000000;stroke-width:2.0px;stroke-linecap:butt;stroke-linejoin:miter;stroke-opacity:1' />\n",
       "<path class='bond-4 atom-4 atom-5' d='M 103.1,96.1 L 149.9,123.0' style='fill:none;fill-rule:evenodd;stroke:#000000;stroke-width:2.0px;stroke-linecap:butt;stroke-linejoin:miter;stroke-opacity:1' />\n",
       "<path class='bond-4 atom-4 atom-5' d='M 111.2,91.4 L 149.9,113.6' style='fill:none;fill-rule:evenodd;stroke:#000000;stroke-width:2.0px;stroke-linecap:butt;stroke-linejoin:miter;stroke-opacity:1' />\n",
       "<path class='bond-5 atom-5 atom-6' d='M 149.9,123.0 L 150.1,177.0' style='fill:none;fill-rule:evenodd;stroke:#000000;stroke-width:2.0px;stroke-linecap:butt;stroke-linejoin:miter;stroke-opacity:1' />\n",
       "<path class='bond-6 atom-6 atom-7' d='M 150.1,177.0 L 196.9,203.9' style='fill:none;fill-rule:evenodd;stroke:#000000;stroke-width:2.0px;stroke-linecap:butt;stroke-linejoin:miter;stroke-opacity:1' />\n",
       "<path class='bond-6 atom-6 atom-7' d='M 150.1,186.4 L 188.8,208.6' style='fill:none;fill-rule:evenodd;stroke:#000000;stroke-width:2.0px;stroke-linecap:butt;stroke-linejoin:miter;stroke-opacity:1' />\n",
       "<path class='bond-7 atom-7 atom-8' d='M 196.9,203.9 L 197.0,257.9' style='fill:none;fill-rule:evenodd;stroke:#000000;stroke-width:2.0px;stroke-linecap:butt;stroke-linejoin:miter;stroke-opacity:1' />\n",
       "<path class='bond-8 atom-8 atom-9' d='M 197.0,257.9 L 150.3,285.0' style='fill:none;fill-rule:evenodd;stroke:#000000;stroke-width:2.0px;stroke-linecap:butt;stroke-linejoin:miter;stroke-opacity:1' />\n",
       "<path class='bond-8 atom-8 atom-9' d='M 188.9,253.2 L 150.3,275.6' style='fill:none;fill-rule:evenodd;stroke:#000000;stroke-width:2.0px;stroke-linecap:butt;stroke-linejoin:miter;stroke-opacity:1' />\n",
       "<path class='bond-9 atom-9 atom-10' d='M 150.3,285.0 L 103.5,258.1' style='fill:none;fill-rule:evenodd;stroke:#000000;stroke-width:2.0px;stroke-linecap:butt;stroke-linejoin:miter;stroke-opacity:1' />\n",
       "<path class='bond-10 atom-10 atom-11' d='M 103.5,258.1 L 103.3,204.1' style='fill:none;fill-rule:evenodd;stroke:#000000;stroke-width:2.0px;stroke-linecap:butt;stroke-linejoin:miter;stroke-opacity:1' />\n",
       "<path class='bond-10 atom-10 atom-11' d='M 111.5,253.4 L 111.5,208.8' style='fill:none;fill-rule:evenodd;stroke:#000000;stroke-width:2.0px;stroke-linecap:butt;stroke-linejoin:miter;stroke-opacity:1' />\n",
       "<path class='bond-11 atom-5 atom-0' d='M 149.9,123.0 L 196.7,95.9' style='fill:none;fill-rule:evenodd;stroke:#000000;stroke-width:2.0px;stroke-linecap:butt;stroke-linejoin:miter;stroke-opacity:1' />\n",
       "<path class='bond-12 atom-11 atom-6' d='M 103.3,204.1 L 150.1,177.0' style='fill:none;fill-rule:evenodd;stroke:#000000;stroke-width:2.0px;stroke-linecap:butt;stroke-linejoin:miter;stroke-opacity:1' />\n",
       "<path d='M 196.7,93.2 L 196.7,95.9 L 194.3,97.3' style='fill:none;stroke:#000000;stroke-width:2.0px;stroke-linecap:butt;stroke-linejoin:miter;stroke-miterlimit:10;stroke-opacity:1;' />\n",
       "<path d='M 196.6,44.6 L 196.5,41.9 L 194.2,40.6' style='fill:none;stroke:#000000;stroke-width:2.0px;stroke-linecap:butt;stroke-linejoin:miter;stroke-miterlimit:10;stroke-opacity:1;' />\n",
       "<path d='M 152.1,16.3 L 149.7,15.0 L 147.4,16.4' style='fill:none;stroke:#000000;stroke-width:2.0px;stroke-linecap:butt;stroke-linejoin:miter;stroke-miterlimit:10;stroke-opacity:1;' />\n",
       "<path d='M 105.4,40.7 L 103.0,42.1 L 103.0,44.8' style='fill:none;stroke:#000000;stroke-width:2.0px;stroke-linecap:butt;stroke-linejoin:miter;stroke-miterlimit:10;stroke-opacity:1;' />\n",
       "<path d='M 103.1,93.4 L 103.1,96.1 L 105.5,97.4' style='fill:none;stroke:#000000;stroke-width:2.0px;stroke-linecap:butt;stroke-linejoin:miter;stroke-miterlimit:10;stroke-opacity:1;' />\n",
       "<path d='M 194.5,202.6 L 196.9,203.9 L 196.9,206.6' style='fill:none;stroke:#000000;stroke-width:2.0px;stroke-linecap:butt;stroke-linejoin:miter;stroke-miterlimit:10;stroke-opacity:1;' />\n",
       "<path d='M 197.0,255.2 L 197.0,257.9 L 194.6,259.3' style='fill:none;stroke:#000000;stroke-width:2.0px;stroke-linecap:butt;stroke-linejoin:miter;stroke-miterlimit:10;stroke-opacity:1;' />\n",
       "<path d='M 152.6,283.6 L 150.3,285.0 L 147.9,283.7' style='fill:none;stroke:#000000;stroke-width:2.0px;stroke-linecap:butt;stroke-linejoin:miter;stroke-miterlimit:10;stroke-opacity:1;' />\n",
       "<path d='M 105.8,259.4 L 103.5,258.1 L 103.4,255.4' style='fill:none;stroke:#000000;stroke-width:2.0px;stroke-linecap:butt;stroke-linejoin:miter;stroke-miterlimit:10;stroke-opacity:1;' />\n",
       "<path d='M 103.3,206.8 L 103.3,204.1 L 105.7,202.7' style='fill:none;stroke:#000000;stroke-width:2.0px;stroke-linecap:butt;stroke-linejoin:miter;stroke-miterlimit:10;stroke-opacity:1;' />\n",
       "</svg>\n"
      ],
      "text/html": [
       "<?xml version='1.0' encoding='iso-8859-1'?>\n",
       "<svg version='1.1' baseProfile='full'\n",
       "              xmlns='http://www.w3.org/2000/svg'\n",
       "                      xmlns:rdkit='http://www.rdkit.org/xml'\n",
       "                      xmlns:xlink='http://www.w3.org/1999/xlink'\n",
       "                  xml:space='preserve'\n",
       "width='300px' height='300px' viewBox='0 0 300 300'>\n",
       "<!-- END OF HEADER -->\n",
       "<rect style='opacity:1.0;fill:#FFFFFF;stroke:none' width='300.0' height='300.0' x='0.0' y='0.0'> </rect>\n",
       "<path class='bond-0 atom-0 atom-1' d='M 196.7,95.9 L 196.5,41.9' style='fill:none;fill-rule:evenodd;stroke:#000000;stroke-width:2.0px;stroke-linecap:butt;stroke-linejoin:miter;stroke-opacity:1' />\n",
       "<path class='bond-0 atom-0 atom-1' d='M 188.5,91.2 L 188.5,46.6' style='fill:none;fill-rule:evenodd;stroke:#000000;stroke-width:2.0px;stroke-linecap:butt;stroke-linejoin:miter;stroke-opacity:1' />\n",
       "<path class='bond-1 atom-1 atom-2' d='M 196.5,41.9 L 149.7,15.0' style='fill:none;fill-rule:evenodd;stroke:#000000;stroke-width:2.0px;stroke-linecap:butt;stroke-linejoin:miter;stroke-opacity:1' />\n",
       "<path class='bond-2 atom-2 atom-3' d='M 149.7,15.0 L 103.0,42.1' style='fill:none;fill-rule:evenodd;stroke:#000000;stroke-width:2.0px;stroke-linecap:butt;stroke-linejoin:miter;stroke-opacity:1' />\n",
       "<path class='bond-2 atom-2 atom-3' d='M 149.7,24.4 L 111.1,46.8' style='fill:none;fill-rule:evenodd;stroke:#000000;stroke-width:2.0px;stroke-linecap:butt;stroke-linejoin:miter;stroke-opacity:1' />\n",
       "<path class='bond-3 atom-3 atom-4' d='M 103.0,42.1 L 103.1,96.1' style='fill:none;fill-rule:evenodd;stroke:#000000;stroke-width:2.0px;stroke-linecap:butt;stroke-linejoin:miter;stroke-opacity:1' />\n",
       "<path class='bond-4 atom-4 atom-5' d='M 103.1,96.1 L 149.9,123.0' style='fill:none;fill-rule:evenodd;stroke:#000000;stroke-width:2.0px;stroke-linecap:butt;stroke-linejoin:miter;stroke-opacity:1' />\n",
       "<path class='bond-4 atom-4 atom-5' d='M 111.2,91.4 L 149.9,113.6' style='fill:none;fill-rule:evenodd;stroke:#000000;stroke-width:2.0px;stroke-linecap:butt;stroke-linejoin:miter;stroke-opacity:1' />\n",
       "<path class='bond-5 atom-5 atom-6' d='M 149.9,123.0 L 150.1,177.0' style='fill:none;fill-rule:evenodd;stroke:#000000;stroke-width:2.0px;stroke-linecap:butt;stroke-linejoin:miter;stroke-opacity:1' />\n",
       "<path class='bond-6 atom-6 atom-7' d='M 150.1,177.0 L 196.9,203.9' style='fill:none;fill-rule:evenodd;stroke:#000000;stroke-width:2.0px;stroke-linecap:butt;stroke-linejoin:miter;stroke-opacity:1' />\n",
       "<path class='bond-6 atom-6 atom-7' d='M 150.1,186.4 L 188.8,208.6' style='fill:none;fill-rule:evenodd;stroke:#000000;stroke-width:2.0px;stroke-linecap:butt;stroke-linejoin:miter;stroke-opacity:1' />\n",
       "<path class='bond-7 atom-7 atom-8' d='M 196.9,203.9 L 197.0,257.9' style='fill:none;fill-rule:evenodd;stroke:#000000;stroke-width:2.0px;stroke-linecap:butt;stroke-linejoin:miter;stroke-opacity:1' />\n",
       "<path class='bond-8 atom-8 atom-9' d='M 197.0,257.9 L 150.3,285.0' style='fill:none;fill-rule:evenodd;stroke:#000000;stroke-width:2.0px;stroke-linecap:butt;stroke-linejoin:miter;stroke-opacity:1' />\n",
       "<path class='bond-8 atom-8 atom-9' d='M 188.9,253.2 L 150.3,275.6' style='fill:none;fill-rule:evenodd;stroke:#000000;stroke-width:2.0px;stroke-linecap:butt;stroke-linejoin:miter;stroke-opacity:1' />\n",
       "<path class='bond-9 atom-9 atom-10' d='M 150.3,285.0 L 103.5,258.1' style='fill:none;fill-rule:evenodd;stroke:#000000;stroke-width:2.0px;stroke-linecap:butt;stroke-linejoin:miter;stroke-opacity:1' />\n",
       "<path class='bond-10 atom-10 atom-11' d='M 103.5,258.1 L 103.3,204.1' style='fill:none;fill-rule:evenodd;stroke:#000000;stroke-width:2.0px;stroke-linecap:butt;stroke-linejoin:miter;stroke-opacity:1' />\n",
       "<path class='bond-10 atom-10 atom-11' d='M 111.5,253.4 L 111.5,208.8' style='fill:none;fill-rule:evenodd;stroke:#000000;stroke-width:2.0px;stroke-linecap:butt;stroke-linejoin:miter;stroke-opacity:1' />\n",
       "<path class='bond-11 atom-5 atom-0' d='M 149.9,123.0 L 196.7,95.9' style='fill:none;fill-rule:evenodd;stroke:#000000;stroke-width:2.0px;stroke-linecap:butt;stroke-linejoin:miter;stroke-opacity:1' />\n",
       "<path class='bond-12 atom-11 atom-6' d='M 103.3,204.1 L 150.1,177.0' style='fill:none;fill-rule:evenodd;stroke:#000000;stroke-width:2.0px;stroke-linecap:butt;stroke-linejoin:miter;stroke-opacity:1' />\n",
       "<path d='M 196.7,93.2 L 196.7,95.9 L 194.3,97.3' style='fill:none;stroke:#000000;stroke-width:2.0px;stroke-linecap:butt;stroke-linejoin:miter;stroke-miterlimit:10;stroke-opacity:1;' />\n",
       "<path d='M 196.6,44.6 L 196.5,41.9 L 194.2,40.6' style='fill:none;stroke:#000000;stroke-width:2.0px;stroke-linecap:butt;stroke-linejoin:miter;stroke-miterlimit:10;stroke-opacity:1;' />\n",
       "<path d='M 152.1,16.3 L 149.7,15.0 L 147.4,16.4' style='fill:none;stroke:#000000;stroke-width:2.0px;stroke-linecap:butt;stroke-linejoin:miter;stroke-miterlimit:10;stroke-opacity:1;' />\n",
       "<path d='M 105.4,40.7 L 103.0,42.1 L 103.0,44.8' style='fill:none;stroke:#000000;stroke-width:2.0px;stroke-linecap:butt;stroke-linejoin:miter;stroke-miterlimit:10;stroke-opacity:1;' />\n",
       "<path d='M 103.1,93.4 L 103.1,96.1 L 105.5,97.4' style='fill:none;stroke:#000000;stroke-width:2.0px;stroke-linecap:butt;stroke-linejoin:miter;stroke-miterlimit:10;stroke-opacity:1;' />\n",
       "<path d='M 194.5,202.6 L 196.9,203.9 L 196.9,206.6' style='fill:none;stroke:#000000;stroke-width:2.0px;stroke-linecap:butt;stroke-linejoin:miter;stroke-miterlimit:10;stroke-opacity:1;' />\n",
       "<path d='M 197.0,255.2 L 197.0,257.9 L 194.6,259.3' style='fill:none;stroke:#000000;stroke-width:2.0px;stroke-linecap:butt;stroke-linejoin:miter;stroke-miterlimit:10;stroke-opacity:1;' />\n",
       "<path d='M 152.6,283.6 L 150.3,285.0 L 147.9,283.7' style='fill:none;stroke:#000000;stroke-width:2.0px;stroke-linecap:butt;stroke-linejoin:miter;stroke-miterlimit:10;stroke-opacity:1;' />\n",
       "<path d='M 105.8,259.4 L 103.5,258.1 L 103.4,255.4' style='fill:none;stroke:#000000;stroke-width:2.0px;stroke-linecap:butt;stroke-linejoin:miter;stroke-miterlimit:10;stroke-opacity:1;' />\n",
       "<path d='M 103.3,206.8 L 103.3,204.1 L 105.7,202.7' style='fill:none;stroke:#000000;stroke-width:2.0px;stroke-linecap:butt;stroke-linejoin:miter;stroke-miterlimit:10;stroke-opacity:1;' />\n",
       "</svg>\n"
      ],
      "text/plain": [
       "<rdkit.Chem.rdchem.Mol at 0x1f29a148e40>"
      ]
     },
     "execution_count": 9,
     "metadata": {},
     "output_type": "execute_result"
    }
   ],
   "source": [
    "biphenyl = Chem.MolFromSmiles(\"c1ccccc1c2ccccc2\")\n",
    "biphenyl"
   ]
  },
  {
   "cell_type": "code",
   "execution_count": 10,
   "id": "5fc85ef6",
   "metadata": {
    "ExecuteTime": {
     "end_time": "2025-05-05T16:56:40.805167Z",
     "start_time": "2025-05-05T16:56:40.803240Z"
    }
   },
   "outputs": [
    {
     "data": {
      "text/plain": [
       "False"
      ]
     },
     "execution_count": 10,
     "metadata": {},
     "output_type": "execute_result"
    }
   ],
   "source": [
    "biphenyl.HasSubstructMatch(query_mol)"
   ]
  },
  {
   "cell_type": "markdown",
   "id": "91e3e18b",
   "metadata": {},
   "source": [
    "Why didn't the query match?  It's because the query SMARTS c1ccccc1**C** specified a phenyl ring connected to an **aliphatic** carbon.  In biphenyl the corresponding carbon atom is aromatic. In SMARTS, \"C\" only matches aliphatic carbon atoms and \"c\" only matches aromatic carbon atoms.  If we wish to match any carbon we can use \"[#6]\" to specify the atom.  "
   ]
  },
  {
   "cell_type": "code",
   "execution_count": 11,
   "id": "a7d3d82a",
   "metadata": {
    "ExecuteTime": {
     "end_time": "2025-05-05T16:56:40.818443Z",
     "start_time": "2025-05-05T16:56:40.816366Z"
    }
   },
   "outputs": [
    {
     "data": {
      "text/plain": [
       "True"
      ]
     },
     "execution_count": 11,
     "metadata": {},
     "output_type": "execute_result"
    }
   ],
   "source": [
    "new_query_mol = Chem.MolFromSmarts(\"c1ccccc1[#6]\")\n",
    "biphenyl.HasSubstructMatch(new_query_mol)"
   ]
  },
  {
   "cell_type": "markdown",
   "id": "6ce3d0bb",
   "metadata": {},
   "source": [
    "A similar approach can be applied with other atom types, we can specify any nitrogen atom as [#7] or any oxygen atom as [#8].   "
   ]
  },
  {
   "cell_type": "markdown",
   "id": "0219f01a",
   "metadata": {},
   "source": [
    "SMARTS can also be used to query for atoms with a particular charge.  For instance, the SMARTS **[-1]** can be used to identify molecules with a charge of -1.  Note that searching with a SMARTS this way will only identify molecules that were input with a charge of -1.  SMARTS searching does not attempt to determine a molecule's ionization state.  In the example below, we match the SMARTS [-1] against neutral and charged versions of acetic acid. "
   ]
  },
  {
   "cell_type": "code",
   "execution_count": 12,
   "id": "7bcc80da",
   "metadata": {
    "ExecuteTime": {
     "end_time": "2025-05-05T16:56:40.831062Z",
     "start_time": "2025-05-05T16:56:40.827158Z"
    }
   },
   "outputs": [
    {
     "data": {
      "image/svg+xml": [
       "<svg xmlns=\"http://www.w3.org/2000/svg\" xmlns:rdkit=\"http://www.rdkit.org/xml\" xmlns:xlink=\"http://www.w3.org/1999/xlink\" version=\"1.1\" baseProfile=\"full\" xml:space=\"preserve\" width=\"600px\" height=\"200px\" viewBox=\"0 0 600 200\">\n",
       "<!-- END OF HEADER -->\n",
       "<rect style=\"opacity:1.0;fill:#FFFFFF;stroke:none\" width=\"200.0\" height=\"200.0\" x=\"0.0\" y=\"0.0\"> </rect>\n",
       "<path class=\"bond-0 atom-0 atom-1\" d=\"M 115.4,118.5 L 138.8,104.9\" style=\"fill:none;fill-rule:evenodd;stroke:#000000;stroke-width:2.0px;stroke-linecap:butt;stroke-linejoin:miter;stroke-opacity:1\"/>\n",
       "<path class=\"bond-0 atom-0 atom-1\" d=\"M 138.8,104.9 L 162.2,91.4\" style=\"fill:none;fill-rule:evenodd;stroke:#FF0000;stroke-width:2.0px;stroke-linecap:butt;stroke-linejoin:miter;stroke-opacity:1\"/>\n",
       "<path class=\"bond-0 atom-0 atom-1\" d=\"M 115.4,106.0 L 133.4,95.6\" style=\"fill:none;fill-rule:evenodd;stroke:#000000;stroke-width:2.0px;stroke-linecap:butt;stroke-linejoin:miter;stroke-opacity:1\"/>\n",
       "<path class=\"bond-0 atom-0 atom-1\" d=\"M 133.4,95.6 L 156.8,82.1\" style=\"fill:none;fill-rule:evenodd;stroke:#FF0000;stroke-width:2.0px;stroke-linecap:butt;stroke-linejoin:miter;stroke-opacity:1\"/>\n",
       "<path class=\"bond-1 atom-0 atom-2\" d=\"M 115.4,118.5 L 91.9,105.0\" style=\"fill:none;fill-rule:evenodd;stroke:#000000;stroke-width:2.0px;stroke-linecap:butt;stroke-linejoin:miter;stroke-opacity:1\"/>\n",
       "<path class=\"bond-1 atom-0 atom-2\" d=\"M 91.9,105.0 L 68.5,91.5\" style=\"fill:none;fill-rule:evenodd;stroke:#FF0000;stroke-width:2.0px;stroke-linecap:butt;stroke-linejoin:miter;stroke-opacity:1\"/>\n",
       "<path d=\"M 116.5,117.8 L 115.4,118.5 L 114.2,117.8\" style=\"fill:none;stroke:#000000;stroke-width:2.0px;stroke-linecap:butt;stroke-linejoin:miter;stroke-miterlimit:10;stroke-opacity:1;\"/>\n",
       "<path class=\"atom-1\" d=\"M 161.9 77.9 Q 161.9 71.1, 165.2 67.3 Q 168.6 63.5, 174.9 63.5 Q 181.2 63.5, 184.5 67.3 Q 187.9 71.1, 187.9 77.9 Q 187.9 84.8, 184.5 88.7 Q 181.1 92.6, 174.9 92.6 Q 168.6 92.6, 165.2 88.7 Q 161.9 84.8, 161.9 77.9 M 174.9 89.4 Q 179.2 89.4, 181.5 86.5 Q 183.9 83.6, 183.9 77.9 Q 183.9 72.3, 181.5 69.5 Q 179.2 66.7, 174.9 66.7 Q 170.6 66.7, 168.2 69.5 Q 165.9 72.3, 165.9 77.9 Q 165.9 83.6, 168.2 86.5 Q 170.6 89.4, 174.9 89.4 \" fill=\"#FF0000\"/>\n",
       "<path class=\"atom-2\" d=\"M 12.1 68.6 L 16.0 68.6 L 16.0 80.6 L 30.4 80.6 L 30.4 68.6 L 34.3 68.6 L 34.3 96.9 L 30.4 96.9 L 30.4 83.8 L 16.0 83.8 L 16.0 96.9 L 12.1 96.9 L 12.1 68.6 \" fill=\"#FF0000\"/>\n",
       "<path class=\"atom-2\" d=\"M 40.1 82.7 Q 40.1 75.9, 43.4 72.1 Q 46.8 68.3, 53.1 68.3 Q 59.4 68.3, 62.7 72.1 Q 66.1 75.9, 66.1 82.7 Q 66.1 89.6, 62.7 93.5 Q 59.3 97.4, 53.1 97.4 Q 46.8 97.4, 43.4 93.5 Q 40.1 89.6, 40.1 82.7 M 53.1 94.2 Q 57.4 94.2, 59.7 91.3 Q 62.1 88.4, 62.1 82.7 Q 62.1 77.1, 59.7 74.3 Q 57.4 71.5, 53.1 71.5 Q 48.8 71.5, 46.4 74.3 Q 44.1 77.1, 44.1 82.7 Q 44.1 88.4, 46.4 91.3 Q 48.8 94.2, 53.1 94.2 \" fill=\"#FF0000\"/>\n",
       "<path class=\"legend\" d=\"M 82.9 178.5 L 89.7 178.5 L 89.7 179.8 L 84.5 179.8 L 84.5 183.2 L 89.1 183.2 L 89.1 184.5 L 84.5 184.5 L 84.5 189.8 L 82.9 189.8 L 82.9 178.5 \" fill=\"#000000\"/>\n",
       "<path class=\"legend\" d=\"M 90.6 187.6 Q 90.6 186.3, 91.6 185.6 Q 92.7 184.8, 94.6 184.8 L 95.8 184.8 L 95.8 184.5 Q 95.8 183.5, 95.4 183.1 Q 95.0 182.6, 94.0 182.6 Q 93.3 182.6, 92.8 182.8 Q 92.3 182.9, 91.5 183.2 L 91.0 182.2 Q 92.6 181.4, 94.0 181.4 Q 95.8 181.4, 96.6 182.2 Q 97.4 182.9, 97.4 184.5 L 97.4 189.8 L 96.2 189.8 Q 96.2 189.7, 96.1 189.5 Q 96.1 189.2, 96.0 188.8 Q 94.8 190.0, 93.3 190.0 Q 92.1 190.0, 91.3 189.3 Q 90.6 188.7, 90.6 187.6 M 92.1 187.6 Q 92.1 188.2, 92.5 188.5 Q 92.9 188.8, 93.6 188.8 Q 94.2 188.8, 94.8 188.5 Q 95.4 188.2, 95.8 187.7 L 95.8 186.0 L 94.7 186.0 Q 93.4 186.0, 92.7 186.4 Q 92.1 186.8, 92.1 187.6 \" fill=\"#000000\"/>\n",
       "<path class=\"legend\" d=\"M 99.1 177.7 L 100.6 177.7 L 100.6 189.8 L 99.1 189.8 L 99.1 177.7 \" fill=\"#000000\"/>\n",
       "<path class=\"legend\" d=\"M 103.0 188.1 Q 103.7 188.4, 104.2 188.6 Q 104.8 188.7, 105.3 188.7 Q 106.1 188.7, 106.5 188.4 Q 106.9 188.1, 106.9 187.5 Q 106.9 187.1, 106.6 186.9 Q 106.4 186.7, 106.2 186.6 Q 105.9 186.4, 105.2 186.2 Q 105.1 186.2, 104.3 185.9 Q 103.6 185.7, 103.2 185.1 Q 102.8 184.6, 102.8 183.8 Q 102.8 182.8, 103.6 182.1 Q 104.4 181.4, 105.8 181.4 Q 106.5 181.4, 107.0 181.6 Q 107.6 181.7, 108.2 182.0 L 107.8 183.2 Q 107.3 182.9, 106.8 182.8 Q 106.3 182.7, 105.8 182.7 Q 105.1 182.7, 104.7 183.0 Q 104.3 183.3, 104.3 183.8 Q 104.3 184.2, 104.6 184.4 Q 104.9 184.6, 105.6 184.9 Q 105.8 184.9, 105.9 185.0 L 106.3 185.1 Q 107.0 185.4, 107.4 185.6 Q 107.8 185.8, 108.1 186.3 Q 108.4 186.7, 108.4 187.5 Q 108.4 188.7, 107.5 189.3 Q 106.7 190.0, 105.4 190.0 Q 104.6 190.0, 103.9 189.8 Q 103.2 189.6, 102.6 189.3 L 103.0 188.1 \" fill=\"#000000\"/>\n",
       "<path class=\"legend\" d=\"M 109.8 185.7 Q 109.8 183.7, 110.8 182.6 Q 111.8 181.4, 113.6 181.4 Q 115.5 181.4, 116.3 182.5 Q 117.1 183.6, 117.1 185.6 L 117.1 185.9 L 111.3 185.9 Q 111.4 187.3, 112.0 188.0 Q 112.6 188.8, 113.8 188.8 Q 114.4 188.8, 115.0 188.6 Q 115.6 188.4, 116.3 188.1 L 116.7 189.2 Q 115.9 189.6, 115.2 189.8 Q 114.5 189.9, 113.7 189.9 Q 111.8 189.9, 110.8 188.8 Q 109.8 187.7, 109.8 185.7 M 113.6 182.6 Q 112.7 182.6, 112.1 183.2 Q 111.6 183.7, 111.4 184.8 L 115.5 184.8 Q 115.4 183.7, 114.9 183.2 Q 114.5 182.6, 113.6 182.6 \" fill=\"#000000\"/>\n",
       "<path class=\"bond-0 atom-0 atom-1\" d=\"M 301.4,118.5 L 324.8,104.9\" style=\"fill:none;fill-rule:evenodd;stroke:#000000;stroke-width:2.0px;stroke-linecap:butt;stroke-linejoin:miter;stroke-opacity:1\"/>\n",
       "<path class=\"bond-0 atom-0 atom-1\" d=\"M 324.8,104.9 L 348.2,91.4\" style=\"fill:none;fill-rule:evenodd;stroke:#FF0000;stroke-width:2.0px;stroke-linecap:butt;stroke-linejoin:miter;stroke-opacity:1\"/>\n",
       "<path class=\"bond-0 atom-0 atom-1\" d=\"M 301.4,106.0 L 319.4,95.6\" style=\"fill:none;fill-rule:evenodd;stroke:#000000;stroke-width:2.0px;stroke-linecap:butt;stroke-linejoin:miter;stroke-opacity:1\"/>\n",
       "<path class=\"bond-0 atom-0 atom-1\" d=\"M 319.4,95.6 L 342.8,82.1\" style=\"fill:none;fill-rule:evenodd;stroke:#FF0000;stroke-width:2.0px;stroke-linecap:butt;stroke-linejoin:miter;stroke-opacity:1\"/>\n",
       "<path class=\"bond-1 atom-0 atom-2\" d=\"M 301.4,118.5 L 277.9,105.0\" style=\"fill:none;fill-rule:evenodd;stroke:#000000;stroke-width:2.0px;stroke-linecap:butt;stroke-linejoin:miter;stroke-opacity:1\"/>\n",
       "<path class=\"bond-1 atom-0 atom-2\" d=\"M 277.9,105.0 L 254.5,91.5\" style=\"fill:none;fill-rule:evenodd;stroke:#FF0000;stroke-width:2.0px;stroke-linecap:butt;stroke-linejoin:miter;stroke-opacity:1\"/>\n",
       "<path d=\"M 302.6,117.8 L 301.4,118.5 L 300.2,117.8\" style=\"fill:none;stroke:#000000;stroke-width:2.0px;stroke-linecap:butt;stroke-linejoin:miter;stroke-miterlimit:10;stroke-opacity:1;\"/>\n",
       "<path class=\"atom-1\" d=\"M 347.9 77.9 Q 347.9 71.1, 351.3 67.3 Q 354.6 63.5, 360.9 63.5 Q 367.2 63.5, 370.5 67.3 Q 373.9 71.1, 373.9 77.9 Q 373.9 84.8, 370.5 88.7 Q 367.1 92.6, 360.9 92.6 Q 354.7 92.6, 351.3 88.7 Q 347.9 84.8, 347.9 77.9 M 360.9 89.4 Q 365.2 89.4, 367.5 86.5 Q 369.9 83.6, 369.9 77.9 Q 369.9 72.3, 367.5 69.5 Q 365.2 66.7, 360.9 66.7 Q 356.6 66.7, 354.2 69.5 Q 351.9 72.3, 351.9 77.9 Q 351.9 83.6, 354.2 86.5 Q 356.6 89.4, 360.9 89.4 \" fill=\"#FF0000\"/>\n",
       "<path class=\"atom-2\" d=\"M 226.1 82.7 Q 226.1 75.9, 229.5 72.1 Q 232.8 68.3, 239.1 68.3 Q 245.4 68.3, 248.7 72.1 Q 252.1 75.9, 252.1 82.7 Q 252.1 89.6, 248.7 93.5 Q 245.3 97.4, 239.1 97.4 Q 232.9 97.4, 229.5 93.5 Q 226.1 89.6, 226.1 82.7 M 239.1 94.2 Q 243.4 94.2, 245.7 91.3 Q 248.1 88.4, 248.1 82.7 Q 248.1 77.1, 245.7 74.3 Q 243.4 71.5, 239.1 71.5 Q 234.8 71.5, 232.4 74.3 Q 230.1 77.1, 230.1 82.7 Q 230.1 88.4, 232.4 91.3 Q 234.8 94.2, 239.1 94.2 \" fill=\"#FF0000\"/>\n",
       "<path class=\"atom-2\" d=\"M 256.1 72.9 L 265.8 72.9 L 265.8 75.0 L 256.1 75.0 L 256.1 72.9 \" fill=\"#FF0000\"/>\n",
       "<path class=\"legend\" d=\"M 288.0 179.8 L 284.5 179.8 L 284.5 178.5 L 292.9 178.5 L 292.9 179.8 L 289.6 179.8 L 289.6 189.9 L 288.0 189.9 L 288.0 179.8 \" fill=\"#000000\"/>\n",
       "<path class=\"legend\" d=\"M 294.8 181.6 L 295.0 182.8 Q 295.8 181.5, 297.2 181.5 Q 297.7 181.5, 298.3 181.6 L 298.0 183.0 Q 297.4 182.8, 297.0 182.8 Q 296.3 182.8, 295.9 183.1 Q 295.4 183.4, 295.1 184.0 L 295.1 189.9 L 293.6 189.9 L 293.6 181.6 L 294.8 181.6 \" fill=\"#000000\"/>\n",
       "<path class=\"legend\" d=\"M 306.2 181.6 L 306.2 189.9 L 305.0 189.9 L 304.8 188.7 Q 303.7 190.0, 302.0 190.0 Q 300.6 190.0, 299.9 189.3 Q 299.2 188.5, 299.2 187.1 L 299.2 181.6 L 300.7 181.6 L 300.7 187.0 Q 300.7 187.9, 301.1 188.4 Q 301.5 188.8, 302.3 188.8 Q 303.0 188.8, 303.7 188.5 Q 304.3 188.1, 304.7 187.5 L 304.7 181.6 L 306.2 181.6 \" fill=\"#000000\"/>\n",
       "<path class=\"legend\" d=\"M 308.2 185.7 Q 308.2 183.7, 309.2 182.6 Q 310.2 181.5, 312.0 181.5 Q 313.9 181.5, 314.7 182.6 Q 315.5 183.6, 315.5 185.7 L 315.5 185.9 L 309.7 185.9 Q 309.8 187.3, 310.4 188.1 Q 311.0 188.8, 312.2 188.8 Q 312.8 188.8, 313.4 188.7 Q 314.0 188.5, 314.7 188.2 L 315.2 189.2 Q 314.3 189.6, 313.6 189.8 Q 312.9 190.0, 312.1 190.0 Q 310.2 190.0, 309.2 188.9 Q 308.2 187.7, 308.2 185.7 M 312.0 182.7 Q 311.1 182.7, 310.5 183.2 Q 310.0 183.8, 309.8 184.8 L 313.9 184.8 Q 313.8 183.7, 313.3 183.2 Q 312.9 182.7, 312.0 182.7 \" fill=\"#000000\"/>\n",
       "</svg>"
      ],
      "text/plain": [
       "<IPython.core.display.SVG object>"
      ]
     },
     "execution_count": 12,
     "metadata": {},
     "output_type": "execute_result"
    }
   ],
   "source": [
    "# An list of SMILES with acetic acid and acetate anion\n",
    "smiles_list = [\"C(=O)O\",\"C(=O)[O-]\"]\n",
    "# Convert SMILES to RDKit molecules\n",
    "mol_list = [Chem.MolFromSmiles(x) for x in smiles_list]\n",
    "# Create a query molecule from SMARTS\n",
    "anion_query = Chem.MolFromSmarts(\"[-1]\")\n",
    "# Match the query to the molecules, convert the output to string so that MolsToGrid can display as a legend\n",
    "match_list = [str(x.HasSubstructMatch(anion_query)) for x in mol_list]\n",
    "# Draw the structures\n",
    "Chem.Draw.MolsToGridImage(mol_list,legends=match_list)"
   ]
  },
  {
   "cell_type": "markdown",
   "id": "da8cbbb5",
   "metadata": {},
   "source": [
    "### Queries With Atom Lists\n",
    "\n",
    "In many cases, we want to be able to create a query that will match multiple atom types.  For instance, we may want to create a query that will match both benzene and pyridine.  We can do this by specifying a comma-separated list of atom types in square brackets.  We can specify a query that will match benzene and pyridine with the SMARTS **c1cccc[c,n]1**."
   ]
  },
  {
   "cell_type": "code",
   "execution_count": 13,
   "id": "bc00f66e",
   "metadata": {
    "ExecuteTime": {
     "end_time": "2025-05-05T16:56:40.845286Z",
     "start_time": "2025-05-05T16:56:40.842808Z"
    }
   },
   "outputs": [
    {
     "data": {
      "text/plain": [
       "[True, True]"
      ]
     },
     "execution_count": 13,
     "metadata": {},
     "output_type": "execute_result"
    }
   ],
   "source": [
    "smiles_list = [\"c1ccccc1\",\"c1ccccn1\"]\n",
    "mol_list = [Chem.MolFromSmiles(x) for x in smiles_list]\n",
    "query_mol = Chem.MolFromSmarts(\"c1cccc[c,n]1\")\n",
    "[x.HasSubstructMatch(query_mol) for x in mol_list]"
   ]
  },
  {
   "cell_type": "markdown",
   "id": "249260f7",
   "metadata": {},
   "source": [
    "Note that we could also rewrite the query we used above to match aromatic and aliphatic carbon atoms as **c1cccc[c,C]1**."
   ]
  },
  {
   "cell_type": "code",
   "execution_count": null,
   "id": "54ada13b",
   "metadata": {
    "ExecuteTime": {
     "end_time": "2025-05-05T16:56:40.853896Z",
     "start_time": "2025-05-05T16:56:40.851595Z"
    }
   },
   "outputs": [],
   "source": [
    "smiles_list = [\"c1ccccc1C\",\"c1ccccc1c2ccccc2\" ]\n",
    "mol_list = [Chem.MolFromSmiles(x) for x in smiles_list]\n",
    "query_mol = Chem.MolFromSmarts(\"c1cccc[c,C]1\")\n",
    "[x.HasSubstructMatch(query_mol) for x in mol_list]"
   ]
  },
  {
   "cell_type": "markdown",
   "id": "2b93f186",
   "metadata": {},
   "source": [
    "Atom lists can also include atom specifiers such as [#8].  We can construct a query that matches any nitrogen or oxygen attached to an aliphatic carbon as **C[#7,#8]**.  "
   ]
  },
  {
   "cell_type": "code",
   "execution_count": null,
   "id": "8697d33c",
   "metadata": {
    "ExecuteTime": {
     "end_time": "2025-05-05T16:56:40.871560Z",
     "start_time": "2025-05-05T16:56:40.865312Z"
    }
   },
   "outputs": [],
   "source": [
    "mol = Chem.MolFromSmiles(\"CCCOCC\")\n",
    "query_mol = Chem.MolFromSmarts(\"C[#7,#8]\")\n",
    "mol.GetSubstructMatch(query_mol)\n",
    "mol"
   ]
  },
  {
   "cell_type": "markdown",
   "id": "2e52732d",
   "metadata": {},
   "source": [
    "### SMARTS Specifying the Number of Attachments to an Atom\n",
    "\n",
    "There are two ways of writing queries that specify the number of attachments to an atom.  Valence, which is specified with \"v\" and degree which is specified with \"D\".  I'm the first to admit that I still confuse these and usually need to write a couple of examples to remember how this works.  In order to do test the two types of queries, let's define a few molecules. "
   ]
  },
  {
   "cell_type": "code",
   "execution_count": null,
   "id": "19cae570",
   "metadata": {
    "ExecuteTime": {
     "end_time": "2025-05-05T16:56:40.882005Z",
     "start_time": "2025-05-05T16:56:40.878640Z"
    }
   },
   "outputs": [],
   "source": [
    "smiles_list = [\"CCCCC\",\"CC(C)CC\",\"CC(C)(C)C\",\"C=CCC\",\"c1ccccc1\"]\n",
    "mol_list = [Chem.MolFromSmiles(x) for x in smiles_list]\n",
    "Chem.Draw.MolsToGridImage(mol_list)"
   ]
  },
  {
   "cell_type": "code",
   "execution_count": null,
   "id": "ae1e7e9b",
   "metadata": {
    "ExecuteTime": {
     "end_time": "2025-05-05T16:56:40.894406Z",
     "start_time": "2025-05-05T16:56:40.890730Z"
    }
   },
   "outputs": [],
   "source": [
    "query_smarts = \"[D2]\"\n",
    "query_mol = Chem.MolFromSmarts(query_smarts)\n",
    "match_list = []\n",
    "for mol in mol_list:\n",
    "    match_list.append(mol.GetSubstructMatch(query_mol))\n",
    "Chem.Draw.MolsToGridImage(mol_list,highlightAtomLists=match_list)"
   ]
  },
  {
   "cell_type": "code",
   "execution_count": null,
   "id": "398b99cc",
   "metadata": {
    "ExecuteTime": {
     "end_time": "2025-05-05T16:56:40.902492Z",
     "start_time": "2025-05-05T16:56:40.900345Z"
    }
   },
   "outputs": [],
   "source": [
    "mol_list[0].GetSubstructMatches(query_mol)"
   ]
  },
  {
   "cell_type": "code",
   "execution_count": null,
   "id": "d319deea",
   "metadata": {
    "ExecuteTime": {
     "end_time": "2025-05-05T16:56:40.913017Z",
     "start_time": "2025-05-05T16:56:40.909809Z"
    }
   },
   "outputs": [],
   "source": [
    "Chem.Draw.MolsToGridImage(mol_list,highlightAtomLists=match_list)"
   ]
  },
  {
   "cell_type": "markdown",
   "id": "383c7ba5",
   "metadata": {},
   "source": [
    "In this section, we'll use the amazing mols2grid component to interactively practice our SMARTS searching skills.  mols2grid provides the ability to create a paginated table of chemical structures.  We can also use this table to select structures and programmatically grab the selected structures.  In addition, mols2grid provides the ability to interactively search the table using SMARTS. A SMARTS search in mols2grid does two things.\n",
    "- Filters the table so that only molecules matching the SMARTS are shown\n",
    "- Highlights the atoms matching the SMARTS\n",
    "\n",
    "In order to search the mols2grid table using SMARTS, we need to do the following: \n",
    "- Click on the magnifying glass in the lower right corner\n",
    "- Select SMARTS\n",
    "\n",
    "<img src=\"https://raw.githubusercontent.com/PatWalters/practical_cheminformatics_tutorials/main/images/smarts_tutorial_using_mols2grid.png\" />"
   ]
  },
  {
   "cell_type": "markdown",
   "id": "c57447e4",
   "metadata": {},
   "source": [
    "In the code block below, we create a grid with the five molecules in mol_list.  Try this out with a few queries.\n",
    "- aliphatic carbon - C\n",
    "- aromatic carbon - c\n",
    "- vinyl group C=C\n",
    "- trisubstituted carbon [#6D3]\n",
    "- carbon with three attached bonds [#6X3]"
   ]
  },
  {
   "cell_type": "code",
   "execution_count": null,
   "id": "d18facb6",
   "metadata": {
    "ExecuteTime": {
     "end_time": "2025-05-05T16:56:40.964699Z",
     "start_time": "2025-05-05T16:56:40.920931Z"
    },
    "scrolled": true
   },
   "outputs": [],
   "source": [
    "import mols2grid\n",
    "mols2grid.display(mol_list,substruct_highlight=True)"
   ]
  },
  {
   "cell_type": "markdown",
   "id": "1922d1f5",
   "metadata": {},
   "source": [
    "### Additional Atom Primitives\n",
    "Use the grid below to try out of some other SMARTS atom primitives.  The table below was taken from [The RDKit Book](https://www.rdkit.org/docs/RDKit_Book.html)\n",
    "<img src=\"https://raw.githubusercontent.com/PatWalters/practical_cheminformatics_tutorials/main/images/smarts_atom_primitives.png\" width=\"800\"/>\n",
    "\n",
    "See if you can find: \n",
    "- All the molecules with a six membered ring\n",
    "- All the molecules with a four membered ring\n",
    "- All the carboxylic acids\n",
    "- All the esters\n",
    "- All the primary amines\n",
    "- All the sp2 hybridized carbons\n",
    "- All the atoms contained in 2 rings\n",
    "- Ureas"
   ]
  },
  {
   "cell_type": "code",
   "execution_count": null,
   "id": "458eea78",
   "metadata": {
    "ExecuteTime": {
     "end_time": "2025-05-05T16:56:41.141421Z",
     "start_time": "2025-05-05T16:56:40.969426Z"
    }
   },
   "outputs": [],
   "source": [
    "import pandas as pd\n",
    "df = pd.read_csv(\"https://raw.githubusercontent.com/PatWalters/practical_cheminformatics_tutorials/main/data/smarts_test.smi\",sep=\" \",names=[\"SMILES\",\"Name\"])\n",
    "mols2grid.display(df,subset=[\"img\",\"Name\"])"
   ]
  },
  {
   "cell_type": "markdown",
   "id": "58bdb68a",
   "metadata": {},
   "source": [
    "### Bond Primitives\n",
    "Use the grid below to try out of some SMARTS bond primitives.  The table below was taken from [The RDKit Book](https://www.rdkit.org/docs/RDKit_Book.html)\n",
    "<img src=\"https://raw.githubusercontent.com/PatWalters/practical_cheminformatics_tutorials/main/images/smarts_bond_primitives.png\" width=\"500\"/>\n",
    "\n",
    "\n",
    "See if you can find: \n",
    "- Sulfur connected by any ring bond to carbon\n",
    "- A double bond in a ring\n",
    "- Nitriles\n",
    "- Any atom triple bonded to any other atom\n",
    "- A ring carbon bonded to a halogen"
   ]
  },
  {
   "cell_type": "code",
   "execution_count": null,
   "id": "392e66f2",
   "metadata": {
    "ExecuteTime": {
     "end_time": "2025-05-05T16:56:41.185285Z",
     "start_time": "2025-05-05T16:56:41.147057Z"
    }
   },
   "outputs": [],
   "source": [
    "import pandas as pd\n",
    "df = pd.read_csv(\"https://raw.githubusercontent.com/PatWalters/practical_cheminformatics_tutorials/main/data/smarts_test.smi\",sep=\" \",names=[\"SMILES\",\"Name\"])\n",
    "mols2grid.display(df,subset=[\"img\",\"Name\"])"
   ]
  },
  {
   "cell_type": "code",
   "execution_count": null,
   "id": "8cc78859",
   "metadata": {
    "ExecuteTime": {
     "end_time": "2025-05-05T16:56:41.192474Z",
     "start_time": "2025-05-05T16:56:41.191008Z"
    }
   },
   "outputs": [],
   "source": []
  },
  {
   "cell_type": "code",
   "execution_count": null,
   "id": "6c151427-5170-4e0b-a2d1-f6f0021a28c7",
   "metadata": {
    "ExecuteTime": {
     "end_time": "2025-05-05T16:56:41.198028Z",
     "start_time": "2025-05-05T16:56:41.196910Z"
    }
   },
   "outputs": [],
   "source": []
  }
 ],
 "metadata": {
  "kernelspec": {
   "display_name": "rdkit-env",
   "language": "python",
   "name": "python3"
  },
  "language_info": {
   "codemirror_mode": {
    "name": "ipython",
    "version": 3
   },
   "file_extension": ".py",
   "mimetype": "text/x-python",
   "name": "python",
   "nbconvert_exporter": "python",
   "pygments_lexer": "ipython3",
   "version": "3.11.13"
  }
 },
 "nbformat": 4,
 "nbformat_minor": 5
}
